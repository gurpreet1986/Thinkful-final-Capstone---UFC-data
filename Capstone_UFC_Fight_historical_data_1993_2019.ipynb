{
  "nbformat": 4,
  "nbformat_minor": 0,
  "metadata": {
    "colab": {
      "name": "Capstone UFC Fight historical data 1993-2019.ipynb",
      "provenance": [],
      "collapsed_sections": [],
      "include_colab_link": true
    },
    "kernelspec": {
      "name": "python3",
      "display_name": "Python 3"
    }
  },
  "cells": [
    {
      "cell_type": "markdown",
      "metadata": {
        "id": "view-in-github",
        "colab_type": "text"
      },
      "source": [
        "<a href=\"https://colab.research.google.com/github/mhcox1251/Thinkful-final-Capstone---UFC-data/blob/master/Capstone_UFC_Fight_historical_data_1993_2019.ipynb\" target=\"_parent\"><img src=\"https://colab.research.google.com/assets/colab-badge.svg\" alt=\"Open In Colab\"/></a>"
      ]
    },
    {
      "cell_type": "markdown",
      "metadata": {
        "id": "EQM0hiRI72lm",
        "colab_type": "text"
      },
      "source": [
        "#This is it! The final capstone project.\n",
        "\n",
        "My main research questions focus around looking at the evolution of fighting styles since the first [UFC](https://en.wikipedia.org/wiki/Ultimate_Fighting_Championship) fight until 2019.\n",
        "\n",
        "When the UFC began, the idea was to have a tournament that would feature martial artists from different disciplines facing each other in a no-holds-barred combat to determine the best martial art.\n",
        "\n",
        "Immediately, the Gracie family-- who developed [Brazilian jiu jitsu](https://en.wikipedia.org/wiki/Brazilian_jiu-jitsu)-- started to dominate. Before there were weight classes, you could see BJJ practitioners winning fights against martial artists from other disciplines that were much bigger in size.\n",
        "\n",
        "As time went on, mixed martial arts began to distill into a discipline of its own as martial arts that proved more effective became apparent. There was a time when a black belt in jiu jitsu had an advantage against someone who did not. Now any fighter worth their salt is an elite jiu jitsu practitioner.\n",
        "\n",
        "I want to look at the evolution of number of fights that end in K.O’s or T.K.O’s (knock out or technical knockout) vs. submission over the years.\n",
        "\n",
        "Based on the above observations, I postulate that striking has now become more important again, and now the fighter with the best kickboxing/muay thai has the _upper hand._ So, to state my hypotheses:\n",
        "\n",
        "\n",
        "*   Wins by submission over time. Hypothesis is that it's gone down over time.\n",
        "* Number of takedowns over time. Hypothesis is that it’s gone down over time.\n",
        "\n",
        "To start, import libraries:\n"
      ]
    },
    {
      "cell_type": "code",
      "metadata": {
        "id": "mYV4iBnZ7mXb",
        "colab_type": "code",
        "colab": {}
      },
      "source": [
        "import pandas as pd\n",
        "import numpy as np\n",
        "from scipy import stats\n",
        "import seaborn as sns; sns.set()\n",
        "\n",
        "import matplotlib.pyplot as plt\n",
        "import math\n",
        "\n",
        "# suppress warnings (warnings do not prevent the code from executing)\n",
        "import warnings\n",
        "warnings.filterwarnings(\"ignore\")"
      ],
      "execution_count": 0,
      "outputs": []
    },
    {
      "cell_type": "markdown",
      "metadata": {
        "id": "hegcGe-g8xXs",
        "colab_type": "text"
      },
      "source": [
        "\n",
        "I am using a dataset found on Kaggle.com. H/t to Rajeev Warrier, who scraped the data from [UFC.com](https://www.ufc.com). The dataset contains historical fight data from 1993 until August of 2019.\n",
        "\n",
        "https://www.kaggle.com/rajeevw/ufcdata/data#\n",
        "\n",
        "I will be using the raw_total_fight_data.csv, which has 41 columns.\n",
        "\n",
        "**<details><summary>Click to see column descriptions</summary>**\n",
        "<p>\n",
        "\n",
        "- R_ and B_ prefix signifies red and blue corner fighter stats respectively\n",
        "- _opp_ containing columns is the average of damage done by the opponent on the fighter\n",
        "- KD is number of knockdowns\n",
        "- SIG_STR is no. of significant strikes 'landed of attempted'\n",
        "- SIG_STR_pct is significant strikes percentage\n",
        "- TOTAL_STR is total strikes 'landed of attempted'\n",
        "- TD is no. of takedowns\n",
        "- TD_pct is takedown percentages\n",
        "- SUB_ATT is no. of submission attempts\n",
        "- PASS is no. times the guard was passed?\n",
        "- REV is the no. of Reversals landed\n",
        "- HEAD is no. of significant strinks to the head 'landed of attempted'\n",
        "- BODY is no. of significant strikes to the body 'landed of attempted'\n",
        "- CLINCH is no. of significant strikes in the clinch 'landed of attempted'\n",
        "- GROUND is no. of significant strikes on the ground 'landed of attempted'\n",
        "- win_by is method of win\n",
        "- last_round is last round of the fight (ex. if it was a KO in 1st, then this will be 1)\n",
        "- last_round_time is when the fight ended in the last round\n",
        "- Format is the format of the fight (3 rounds, 5 rounds etc.)\n",
        "- Referee is the name of the Ref\n",
        "- date is the date of the fight\n",
        "- location is the location in which the event took place\n",
        "- Fight_type is which weight class and whether it's a title bout or not\n",
        "- Winner is the winner of the fight\n",
        "- Stance is the stance of the fighter (orthodox, southpaw, etc.)\n",
        "- Height_cms is the height in centimeter\n",
        "- Reach_cms is the reach of the fighter (arm span) in centimeter\n",
        "- Weight_lbs is the weight of the fighter in pounds (lbs)\n",
        "- age is the age of the fighter\n",
        "- title_bout Boolean value of whether it is title fight or not\n",
        "- weight_class is which weight class the fight is in (Bantamweight, heavyweight, Women's flyweight, etc.)\n",
        "- no_of_rounds is the number of rounds the fight was scheduled for\n",
        "- current_lose_streak is the count of current concurrent losses of the fighter\n",
        "- current_win_streak is the count of current concurrent wins of the fighter\n",
        "- draw is the number of draws in the fighter's ufc career\n",
        "- wins is the number of wins in the fighter's ufc career\n",
        "- losses is the number of losses in the fighter's ufc career\n",
        "- total_rounds_fought is the average of total rounds fought by the fighter\n",
        "- total_time_fought(seconds) is the count of total time spent fighting in seconds\n",
        "- total_title_bouts is the total number of title bouts taken part in by the fighter\n",
        "- win_by_Decision_Majority is the number of wins by majority judges decision in the fighter's ufc career\n",
        "- win_by_Decision_Split is the number of wins by split judges decision in the fighter's ufc career\n",
        "- win_by_Decision_Unanimous is the number of wins by unanimous judges decision in the fighter's ufc career\n",
        "- win_by_KO/TKO is the number of wins by knockout in the fighter's ufc career\n",
        "- win_by_Submission is the number of wins by submission in the fighter's ufc career\n",
        "- win_by_TKO_Doctor_Stoppage is the number of wins by doctor stoppage in the fighter's ufc career\n",
        "\n",
        "</p>\n",
        "</details>\n",
        "\n",
        "\n",
        "---\n",
        "\n",
        "\n",
        "**Acknowledgements:**\n",
        "\n",
        "Credit to the author of the dataset, who did the hard part of scraping fight data from UFC.com.\n",
        "\n",
        "Also, credit to the Kaggle users who created kernels before me-- I took inspiration from others' use of the dataset to help guide me and learn as I go."
      ]
    },
    {
      "cell_type": "code",
      "metadata": {
        "id": "kGmr0apC8pFz",
        "colab_type": "code",
        "outputId": "56478320-16ef-4944-cece-182fc56a6250",
        "cellView": "both",
        "colab": {
          "base_uri": "https://localhost:8080/",
          "height": 35
        }
      },
      "source": [
        "#@title\n",
        "from google.colab import drive\n",
        "drive.mount('/content/gdrive')"
      ],
      "execution_count": 0,
      "outputs": [
        {
          "output_type": "stream",
          "text": [
            "Drive already mounted at /content/gdrive; to attempt to forcibly remount, call drive.mount(\"/content/gdrive\", force_remount=True).\n"
          ],
          "name": "stdout"
        }
      ]
    },
    {
      "cell_type": "markdown",
      "metadata": {
        "id": "1egNp36FFd3H",
        "colab_type": "text"
      },
      "source": [
        "Import the data, and delimit the raw csv so I can store it as a usable DataFrame:"
      ]
    },
    {
      "cell_type": "code",
      "metadata": {
        "id": "k-eipCdtDN7Y",
        "colab_type": "code",
        "colab": {}
      },
      "source": [
        "df = pd.read_csv('/content/gdrive/My Drive/Colab datasets/raw_total_fight_data.csv', delimiter=';')"
      ],
      "execution_count": 0,
      "outputs": []
    },
    {
      "cell_type": "markdown",
      "metadata": {
        "id": "zIeJWZp9Fl6F",
        "colab_type": "text"
      },
      "source": [
        "Checking it out:"
      ]
    },
    {
      "cell_type": "code",
      "metadata": {
        "id": "TaZ97bzNaIsD",
        "colab_type": "code",
        "outputId": "e75c9ad4-1cf1-47b2-c143-fb41d21b7497",
        "colab": {
          "base_uri": "https://localhost:8080/",
          "height": 407
        }
      },
      "source": [
        "df.head()"
      ],
      "execution_count": 0,
      "outputs": [
        {
          "output_type": "execute_result",
          "data": {
            "text/html": [
              "<div>\n",
              "<style scoped>\n",
              "    .dataframe tbody tr th:only-of-type {\n",
              "        vertical-align: middle;\n",
              "    }\n",
              "\n",
              "    .dataframe tbody tr th {\n",
              "        vertical-align: top;\n",
              "    }\n",
              "\n",
              "    .dataframe thead th {\n",
              "        text-align: right;\n",
              "    }\n",
              "</style>\n",
              "<table border=\"1\" class=\"dataframe\">\n",
              "  <thead>\n",
              "    <tr style=\"text-align: right;\">\n",
              "      <th></th>\n",
              "      <th>R_fighter</th>\n",
              "      <th>B_fighter</th>\n",
              "      <th>R_KD</th>\n",
              "      <th>B_KD</th>\n",
              "      <th>R_SIG_STR.</th>\n",
              "      <th>B_SIG_STR.</th>\n",
              "      <th>R_SIG_STR_pct</th>\n",
              "      <th>B_SIG_STR_pct</th>\n",
              "      <th>R_TOTAL_STR.</th>\n",
              "      <th>B_TOTAL_STR.</th>\n",
              "      <th>R_TD</th>\n",
              "      <th>B_TD</th>\n",
              "      <th>R_TD_pct</th>\n",
              "      <th>B_TD_pct</th>\n",
              "      <th>R_SUB_ATT</th>\n",
              "      <th>B_SUB_ATT</th>\n",
              "      <th>R_PASS</th>\n",
              "      <th>B_PASS</th>\n",
              "      <th>R_REV</th>\n",
              "      <th>B_REV</th>\n",
              "      <th>R_HEAD</th>\n",
              "      <th>B_HEAD</th>\n",
              "      <th>R_BODY</th>\n",
              "      <th>B_BODY</th>\n",
              "      <th>R_LEG</th>\n",
              "      <th>B_LEG</th>\n",
              "      <th>R_DISTANCE</th>\n",
              "      <th>B_DISTANCE</th>\n",
              "      <th>R_CLINCH</th>\n",
              "      <th>B_CLINCH</th>\n",
              "      <th>R_GROUND</th>\n",
              "      <th>B_GROUND</th>\n",
              "      <th>win_by</th>\n",
              "      <th>last_round</th>\n",
              "      <th>last_round_time</th>\n",
              "      <th>Format</th>\n",
              "      <th>Referee</th>\n",
              "      <th>date</th>\n",
              "      <th>location</th>\n",
              "      <th>Fight_type</th>\n",
              "      <th>Winner</th>\n",
              "    </tr>\n",
              "  </thead>\n",
              "  <tbody>\n",
              "    <tr>\n",
              "      <th>0</th>\n",
              "      <td>Henry Cejudo</td>\n",
              "      <td>Marlon Moraes</td>\n",
              "      <td>0</td>\n",
              "      <td>0</td>\n",
              "      <td>90 of 171</td>\n",
              "      <td>57 of 119</td>\n",
              "      <td>52%</td>\n",
              "      <td>47%</td>\n",
              "      <td>99 of 182</td>\n",
              "      <td>59 of 121</td>\n",
              "      <td>1 of 4</td>\n",
              "      <td>0 of 2</td>\n",
              "      <td>25%</td>\n",
              "      <td>0%</td>\n",
              "      <td>1</td>\n",
              "      <td>0</td>\n",
              "      <td>1</td>\n",
              "      <td>0</td>\n",
              "      <td>0</td>\n",
              "      <td>0</td>\n",
              "      <td>73 of 150</td>\n",
              "      <td>35 of 89</td>\n",
              "      <td>13 of 16</td>\n",
              "      <td>7 of 8</td>\n",
              "      <td>4 of 5</td>\n",
              "      <td>15 of 22</td>\n",
              "      <td>45 of 118</td>\n",
              "      <td>54 of 116</td>\n",
              "      <td>19 of 23</td>\n",
              "      <td>2 of 2</td>\n",
              "      <td>26 of 30</td>\n",
              "      <td>1 of 1</td>\n",
              "      <td>KO/TKO</td>\n",
              "      <td>3</td>\n",
              "      <td>4:51</td>\n",
              "      <td>5 Rnd (5-5-5-5-5)</td>\n",
              "      <td>Marc Goddard</td>\n",
              "      <td>June 08, 2019</td>\n",
              "      <td>Chicago, Illinois, USA</td>\n",
              "      <td>UFC Bantamweight Title Bout</td>\n",
              "      <td>Henry Cejudo</td>\n",
              "    </tr>\n",
              "    <tr>\n",
              "      <th>1</th>\n",
              "      <td>Valentina Shevchenko</td>\n",
              "      <td>Jessica Eye</td>\n",
              "      <td>1</td>\n",
              "      <td>0</td>\n",
              "      <td>8 of 11</td>\n",
              "      <td>2 of 12</td>\n",
              "      <td>72%</td>\n",
              "      <td>16%</td>\n",
              "      <td>37 of 40</td>\n",
              "      <td>42 of 52</td>\n",
              "      <td>2 of 2</td>\n",
              "      <td>0 of 0</td>\n",
              "      <td>100%</td>\n",
              "      <td>0%</td>\n",
              "      <td>1</td>\n",
              "      <td>0</td>\n",
              "      <td>3</td>\n",
              "      <td>0</td>\n",
              "      <td>0</td>\n",
              "      <td>0</td>\n",
              "      <td>4 of 5</td>\n",
              "      <td>0 of 7</td>\n",
              "      <td>4 of 6</td>\n",
              "      <td>0 of 2</td>\n",
              "      <td>0 of 0</td>\n",
              "      <td>2 of 3</td>\n",
              "      <td>5 of 8</td>\n",
              "      <td>2 of 12</td>\n",
              "      <td>2 of 2</td>\n",
              "      <td>0 of 0</td>\n",
              "      <td>1 of 1</td>\n",
              "      <td>0 of 0</td>\n",
              "      <td>KO/TKO</td>\n",
              "      <td>2</td>\n",
              "      <td>0:26</td>\n",
              "      <td>5 Rnd (5-5-5-5-5)</td>\n",
              "      <td>Robert Madrigal</td>\n",
              "      <td>June 08, 2019</td>\n",
              "      <td>Chicago, Illinois, USA</td>\n",
              "      <td>UFC Women's Flyweight Title Bout</td>\n",
              "      <td>Valentina Shevchenko</td>\n",
              "    </tr>\n",
              "    <tr>\n",
              "      <th>2</th>\n",
              "      <td>Tony Ferguson</td>\n",
              "      <td>Donald Cerrone</td>\n",
              "      <td>0</td>\n",
              "      <td>0</td>\n",
              "      <td>104 of 200</td>\n",
              "      <td>68 of 185</td>\n",
              "      <td>52%</td>\n",
              "      <td>36%</td>\n",
              "      <td>104 of 200</td>\n",
              "      <td>68 of 185</td>\n",
              "      <td>0 of 0</td>\n",
              "      <td>1 of 1</td>\n",
              "      <td>0%</td>\n",
              "      <td>100%</td>\n",
              "      <td>0</td>\n",
              "      <td>0</td>\n",
              "      <td>0</td>\n",
              "      <td>0</td>\n",
              "      <td>0</td>\n",
              "      <td>0</td>\n",
              "      <td>65 of 144</td>\n",
              "      <td>43 of 152</td>\n",
              "      <td>25 of 37</td>\n",
              "      <td>15 of 23</td>\n",
              "      <td>14 of 19</td>\n",
              "      <td>10 of 10</td>\n",
              "      <td>103 of 198</td>\n",
              "      <td>68 of 184</td>\n",
              "      <td>1 of 2</td>\n",
              "      <td>0 of 1</td>\n",
              "      <td>0 of 0</td>\n",
              "      <td>0 of 0</td>\n",
              "      <td>TKO - Doctor's Stoppage</td>\n",
              "      <td>2</td>\n",
              "      <td>5:00</td>\n",
              "      <td>3 Rnd (5-5-5)</td>\n",
              "      <td>Dan Miragliotta</td>\n",
              "      <td>June 08, 2019</td>\n",
              "      <td>Chicago, Illinois, USA</td>\n",
              "      <td>Lightweight Bout</td>\n",
              "      <td>Tony Ferguson</td>\n",
              "    </tr>\n",
              "    <tr>\n",
              "      <th>3</th>\n",
              "      <td>Jimmie Rivera</td>\n",
              "      <td>Petr Yan</td>\n",
              "      <td>0</td>\n",
              "      <td>2</td>\n",
              "      <td>73 of 192</td>\n",
              "      <td>56 of 189</td>\n",
              "      <td>38%</td>\n",
              "      <td>29%</td>\n",
              "      <td>76 of 195</td>\n",
              "      <td>58 of 192</td>\n",
              "      <td>0 of 3</td>\n",
              "      <td>1 of 3</td>\n",
              "      <td>0%</td>\n",
              "      <td>33%</td>\n",
              "      <td>0</td>\n",
              "      <td>0</td>\n",
              "      <td>0</td>\n",
              "      <td>1</td>\n",
              "      <td>0</td>\n",
              "      <td>0</td>\n",
              "      <td>42 of 145</td>\n",
              "      <td>40 of 166</td>\n",
              "      <td>15 of 24</td>\n",
              "      <td>13 of 19</td>\n",
              "      <td>16 of 23</td>\n",
              "      <td>3 of 4</td>\n",
              "      <td>60 of 173</td>\n",
              "      <td>42 of 167</td>\n",
              "      <td>9 of 15</td>\n",
              "      <td>10 of 12</td>\n",
              "      <td>4 of 4</td>\n",
              "      <td>4 of 10</td>\n",
              "      <td>Decision - Unanimous</td>\n",
              "      <td>3</td>\n",
              "      <td>5:00</td>\n",
              "      <td>3 Rnd (5-5-5)</td>\n",
              "      <td>Kevin MacDonald</td>\n",
              "      <td>June 08, 2019</td>\n",
              "      <td>Chicago, Illinois, USA</td>\n",
              "      <td>Bantamweight Bout</td>\n",
              "      <td>Petr Yan</td>\n",
              "    </tr>\n",
              "    <tr>\n",
              "      <th>4</th>\n",
              "      <td>Tai Tuivasa</td>\n",
              "      <td>Blagoy Ivanov</td>\n",
              "      <td>0</td>\n",
              "      <td>1</td>\n",
              "      <td>64 of 144</td>\n",
              "      <td>73 of 123</td>\n",
              "      <td>44%</td>\n",
              "      <td>59%</td>\n",
              "      <td>66 of 146</td>\n",
              "      <td>81 of 131</td>\n",
              "      <td>0 of 0</td>\n",
              "      <td>2 of 2</td>\n",
              "      <td>0%</td>\n",
              "      <td>100%</td>\n",
              "      <td>0</td>\n",
              "      <td>0</td>\n",
              "      <td>0</td>\n",
              "      <td>0</td>\n",
              "      <td>0</td>\n",
              "      <td>0</td>\n",
              "      <td>39 of 114</td>\n",
              "      <td>65 of 114</td>\n",
              "      <td>6 of 7</td>\n",
              "      <td>7 of 8</td>\n",
              "      <td>19 of 23</td>\n",
              "      <td>1 of 1</td>\n",
              "      <td>50 of 126</td>\n",
              "      <td>62 of 111</td>\n",
              "      <td>14 of 18</td>\n",
              "      <td>5 of 6</td>\n",
              "      <td>0 of 0</td>\n",
              "      <td>6 of 6</td>\n",
              "      <td>Decision - Unanimous</td>\n",
              "      <td>3</td>\n",
              "      <td>5:00</td>\n",
              "      <td>3 Rnd (5-5-5)</td>\n",
              "      <td>Dan Miragliotta</td>\n",
              "      <td>June 08, 2019</td>\n",
              "      <td>Chicago, Illinois, USA</td>\n",
              "      <td>Heavyweight Bout</td>\n",
              "      <td>Blagoy Ivanov</td>\n",
              "    </tr>\n",
              "  </tbody>\n",
              "</table>\n",
              "</div>"
            ],
            "text/plain": [
              "              R_fighter  ...                Winner\n",
              "0          Henry Cejudo  ...          Henry Cejudo\n",
              "1  Valentina Shevchenko  ...  Valentina Shevchenko\n",
              "2         Tony Ferguson  ...         Tony Ferguson\n",
              "3         Jimmie Rivera  ...              Petr Yan\n",
              "4           Tai Tuivasa  ...         Blagoy Ivanov\n",
              "\n",
              "[5 rows x 41 columns]"
            ]
          },
          "metadata": {
            "tags": []
          },
          "execution_count": 44
        }
      ]
    },
    {
      "cell_type": "markdown",
      "metadata": {
        "id": "JEKv0jb7i1T8",
        "colab_type": "text"
      },
      "source": [
        "#General cleaning"
      ]
    },
    {
      "cell_type": "code",
      "metadata": {
        "id": "9KtYy_F4lgHi",
        "colab_type": "code",
        "outputId": "7be2b2da-cb1c-46f2-84ba-e548cfba50da",
        "colab": {
          "base_uri": "https://localhost:8080/",
          "height": 177
        }
      },
      "source": [
        "df.columns"
      ],
      "execution_count": 0,
      "outputs": [
        {
          "output_type": "execute_result",
          "data": {
            "text/plain": [
              "Index(['R_fighter', 'B_fighter', 'R_KD', 'B_KD', 'R_SIG_STR.', 'B_SIG_STR.',\n",
              "       'R_SIG_STR_pct', 'B_SIG_STR_pct', 'R_TOTAL_STR.', 'B_TOTAL_STR.',\n",
              "       'R_TD', 'B_TD', 'R_TD_pct', 'B_TD_pct', 'R_SUB_ATT', 'B_SUB_ATT',\n",
              "       'R_PASS', 'B_PASS', 'R_REV', 'B_REV', 'R_HEAD', 'B_HEAD', 'R_BODY',\n",
              "       'B_BODY', 'R_LEG', 'B_LEG', 'R_DISTANCE', 'B_DISTANCE', 'R_CLINCH',\n",
              "       'B_CLINCH', 'R_GROUND', 'B_GROUND', 'win_by', 'last_round',\n",
              "       'last_round_time', 'Format', 'Referee', 'date', 'location',\n",
              "       'Fight_type', 'Winner'],\n",
              "      dtype='object')"
            ]
          },
          "metadata": {
            "tags": []
          },
          "execution_count": 45
        }
      ]
    },
    {
      "cell_type": "code",
      "metadata": {
        "id": "t7Nhw0V3ljEq",
        "colab_type": "code",
        "colab": {}
      },
      "source": [
        "columns = ['R_SIG_STR.', 'B_SIG_STR.', 'R_TOTAL_STR.', 'B_TOTAL_STR.',\n",
        "       'R_TD', 'B_TD', 'R_HEAD', 'B_HEAD', 'R_BODY','B_BODY', 'R_LEG', 'B_LEG', \n",
        "        'R_DISTANCE', 'B_DISTANCE', 'R_CLINCH','B_CLINCH', 'R_GROUND', 'B_GROUND']"
      ],
      "execution_count": 0,
      "outputs": []
    },
    {
      "cell_type": "markdown",
      "metadata": {
        "id": "V5EVK71xxCKY",
        "colab_type": "text"
      },
      "source": [
        "splitting "
      ]
    },
    {
      "cell_type": "code",
      "metadata": {
        "id": "XY69IU28lTv1",
        "colab_type": "code",
        "colab": {}
      },
      "source": [
        "attemp = '_att'\n",
        "landed = '_landed'\n",
        "\n",
        "for column in columns:\n",
        "    df[column+attemp] = df[column].apply(lambda X: int(X.split('of')[1]))\n",
        "    df[column+landed] = df[column].apply(lambda X: int(X.split('of')[0]))\n",
        "    \n",
        "df.drop(columns, axis=1, inplace=True)"
      ],
      "execution_count": 0,
      "outputs": []
    },
    {
      "cell_type": "markdown",
      "metadata": {
        "id": "Wf9pjwGKYepE",
        "colab_type": "text"
      },
      "source": [
        "Convert date to datetime type."
      ]
    },
    {
      "cell_type": "code",
      "metadata": {
        "id": "YELKpxS9YP4G",
        "colab_type": "code",
        "outputId": "7c833ebe-f25b-4ad4-8a49-9c4c7718e99d",
        "colab": {
          "base_uri": "https://localhost:8080/",
          "height": 319
        }
      },
      "source": [
        "df['date'] = df['date'].map(pd.to_datetime)\n",
        "\n",
        "def get_dom(dt):\n",
        "  return dt.day\n",
        "\n",
        "def get_m(dt):\n",
        "  return dt.month\n",
        "\n",
        "def get_year(dt):\n",
        "  return dt.year\n",
        "\n",
        "df['day'] = df['date'].dt.day\n",
        "df['month'] = df['date'].dt.month\n",
        "df['year']= df['date'].dt.year\n",
        "\n",
        "print(df['date'].dtypes)\n",
        "df.columns"
      ],
      "execution_count": 0,
      "outputs": [
        {
          "output_type": "stream",
          "text": [
            "datetime64[ns]\n"
          ],
          "name": "stdout"
        },
        {
          "output_type": "execute_result",
          "data": {
            "text/plain": [
              "Index(['R_fighter', 'B_fighter', 'R_KD', 'B_KD', 'R_SIG_STR_pct',\n",
              "       'B_SIG_STR_pct', 'R_TD_pct', 'B_TD_pct', 'R_SUB_ATT', 'B_SUB_ATT',\n",
              "       'R_PASS', 'B_PASS', 'R_REV', 'B_REV', 'win_by', 'last_round',\n",
              "       'last_round_time', 'Format', 'Referee', 'date', 'location',\n",
              "       'Fight_type', 'Winner', 'R_SIG_STR._att', 'R_SIG_STR._landed',\n",
              "       'B_SIG_STR._att', 'B_SIG_STR._landed', 'R_TOTAL_STR._att',\n",
              "       'R_TOTAL_STR._landed', 'B_TOTAL_STR._att', 'B_TOTAL_STR._landed',\n",
              "       'R_TD_att', 'R_TD_landed', 'B_TD_att', 'B_TD_landed', 'R_HEAD_att',\n",
              "       'R_HEAD_landed', 'B_HEAD_att', 'B_HEAD_landed', 'R_BODY_att',\n",
              "       'R_BODY_landed', 'B_BODY_att', 'B_BODY_landed', 'R_LEG_att',\n",
              "       'R_LEG_landed', 'B_LEG_att', 'B_LEG_landed', 'R_DISTANCE_att',\n",
              "       'R_DISTANCE_landed', 'B_DISTANCE_att', 'B_DISTANCE_landed',\n",
              "       'R_CLINCH_att', 'R_CLINCH_landed', 'B_CLINCH_att', 'B_CLINCH_landed',\n",
              "       'R_GROUND_att', 'R_GROUND_landed', 'B_GROUND_att', 'B_GROUND_landed',\n",
              "       'day', 'month', 'year'],\n",
              "      dtype='object')"
            ]
          },
          "metadata": {
            "tags": []
          },
          "execution_count": 48
        }
      ]
    },
    {
      "cell_type": "markdown",
      "metadata": {
        "id": "YvNurKB19eDj",
        "colab_type": "text"
      },
      "source": [
        "##Weight class\n",
        "Creating weight class column."
      ]
    },
    {
      "cell_type": "code",
      "metadata": {
        "id": "nwKMYQN28SV5",
        "colab_type": "code",
        "colab": {}
      },
      "source": [
        "def Division(X):\n",
        "    for Division in weight_classes:\n",
        "        if Division in X:\n",
        "            return Division\n",
        "    if X == 'Catch Weight Bout' or 'Catchweight Bout':\n",
        "        return 'Catch Weight'\n",
        "    else:\n",
        "        return 'Open Weight'\n",
        "weight_classes = ['Women\\'s Strawweight', 'Women\\'s Bantamweight', \n",
        "                  'Women\\'s Featherweight', 'Women\\'s Flyweight', 'Lightweight', \n",
        "                  'Welterweight', 'Middleweight','Light Heavyweight', \n",
        "                  'Heavyweight', 'Featherweight','Bantamweight', 'Flyweight', 'Open Weight']\n",
        "\n",
        "df['weight_class'] = df['Fight_type'].apply(Division)"
      ],
      "execution_count": 0,
      "outputs": []
    },
    {
      "cell_type": "markdown",
      "metadata": {
        "id": "ftNyqffocu0E",
        "colab_type": "text"
      },
      "source": [
        "#Exploratory data analysis\n",
        "\n",
        "Checking data types and nulls:"
      ]
    },
    {
      "cell_type": "code",
      "metadata": {
        "id": "gt1l7bOjTbc3",
        "colab_type": "code",
        "outputId": "478bb072-40e0-4331-fa58-f9a63a26d8d3",
        "colab": {
          "base_uri": "https://localhost:8080/",
          "height": 1000
        }
      },
      "source": [
        "df.info()"
      ],
      "execution_count": 0,
      "outputs": [
        {
          "output_type": "stream",
          "text": [
            "<class 'pandas.core.frame.DataFrame'>\n",
            "RangeIndex: 5144 entries, 0 to 5143\n",
            "Data columns (total 63 columns):\n",
            "R_fighter              5144 non-null object\n",
            "B_fighter              5144 non-null object\n",
            "R_KD                   5144 non-null int64\n",
            "B_KD                   5144 non-null int64\n",
            "R_SIG_STR_pct          5144 non-null object\n",
            "B_SIG_STR_pct          5144 non-null object\n",
            "R_TD_pct               5144 non-null object\n",
            "B_TD_pct               5144 non-null object\n",
            "R_SUB_ATT              5144 non-null int64\n",
            "B_SUB_ATT              5144 non-null int64\n",
            "R_PASS                 5144 non-null int64\n",
            "B_PASS                 5144 non-null int64\n",
            "R_REV                  5144 non-null int64\n",
            "B_REV                  5144 non-null int64\n",
            "win_by                 5144 non-null object\n",
            "last_round             5144 non-null int64\n",
            "last_round_time        5144 non-null object\n",
            "Format                 5144 non-null object\n",
            "Referee                5121 non-null object\n",
            "date                   5144 non-null datetime64[ns]\n",
            "location               5144 non-null object\n",
            "Fight_type             5144 non-null object\n",
            "Winner                 5061 non-null object\n",
            "R_SIG_STR._att         5144 non-null int64\n",
            "R_SIG_STR._landed      5144 non-null int64\n",
            "B_SIG_STR._att         5144 non-null int64\n",
            "B_SIG_STR._landed      5144 non-null int64\n",
            "R_TOTAL_STR._att       5144 non-null int64\n",
            "R_TOTAL_STR._landed    5144 non-null int64\n",
            "B_TOTAL_STR._att       5144 non-null int64\n",
            "B_TOTAL_STR._landed    5144 non-null int64\n",
            "R_TD_att               5144 non-null int64\n",
            "R_TD_landed            5144 non-null int64\n",
            "B_TD_att               5144 non-null int64\n",
            "B_TD_landed            5144 non-null int64\n",
            "R_HEAD_att             5144 non-null int64\n",
            "R_HEAD_landed          5144 non-null int64\n",
            "B_HEAD_att             5144 non-null int64\n",
            "B_HEAD_landed          5144 non-null int64\n",
            "R_BODY_att             5144 non-null int64\n",
            "R_BODY_landed          5144 non-null int64\n",
            "B_BODY_att             5144 non-null int64\n",
            "B_BODY_landed          5144 non-null int64\n",
            "R_LEG_att              5144 non-null int64\n",
            "R_LEG_landed           5144 non-null int64\n",
            "B_LEG_att              5144 non-null int64\n",
            "B_LEG_landed           5144 non-null int64\n",
            "R_DISTANCE_att         5144 non-null int64\n",
            "R_DISTANCE_landed      5144 non-null int64\n",
            "B_DISTANCE_att         5144 non-null int64\n",
            "B_DISTANCE_landed      5144 non-null int64\n",
            "R_CLINCH_att           5144 non-null int64\n",
            "R_CLINCH_landed        5144 non-null int64\n",
            "B_CLINCH_att           5144 non-null int64\n",
            "B_CLINCH_landed        5144 non-null int64\n",
            "R_GROUND_att           5144 non-null int64\n",
            "R_GROUND_landed        5144 non-null int64\n",
            "B_GROUND_att           5144 non-null int64\n",
            "B_GROUND_landed        5144 non-null int64\n",
            "day                    5144 non-null int64\n",
            "month                  5144 non-null int64\n",
            "year                   5144 non-null int64\n",
            "weight_class           5144 non-null object\n",
            "dtypes: datetime64[ns](1), int64(48), object(14)\n",
            "memory usage: 2.5+ MB\n"
          ],
          "name": "stdout"
        }
      ]
    },
    {
      "cell_type": "markdown",
      "metadata": {
        "id": "pOAGfQlXQNFW",
        "colab_type": "text"
      },
      "source": [
        "I'm going to drop the nulls in the Winner column. Other than that, none of the columns I'm interested for the purpose of this analysis have nulls."
      ]
    },
    {
      "cell_type": "code",
      "metadata": {
        "id": "K1yXe1eqQMfm",
        "colab_type": "code",
        "colab": {}
      },
      "source": [
        "df.dropna(subset=['Winner'], inplace=True)"
      ],
      "execution_count": 0,
      "outputs": []
    },
    {
      "cell_type": "code",
      "metadata": {
        "id": "6IxZQHmaPJEn",
        "colab_type": "code",
        "outputId": "d23e31da-1365-4924-acf1-e29ed9a2153f",
        "colab": {
          "base_uri": "https://localhost:8080/",
          "height": 311
        }
      },
      "source": [
        "df.describe()"
      ],
      "execution_count": 0,
      "outputs": [
        {
          "output_type": "execute_result",
          "data": {
            "text/html": [
              "<div>\n",
              "<style scoped>\n",
              "    .dataframe tbody tr th:only-of-type {\n",
              "        vertical-align: middle;\n",
              "    }\n",
              "\n",
              "    .dataframe tbody tr th {\n",
              "        vertical-align: top;\n",
              "    }\n",
              "\n",
              "    .dataframe thead th {\n",
              "        text-align: right;\n",
              "    }\n",
              "</style>\n",
              "<table border=\"1\" class=\"dataframe\">\n",
              "  <thead>\n",
              "    <tr style=\"text-align: right;\">\n",
              "      <th></th>\n",
              "      <th>R_KD</th>\n",
              "      <th>B_KD</th>\n",
              "      <th>R_SUB_ATT</th>\n",
              "      <th>B_SUB_ATT</th>\n",
              "      <th>R_PASS</th>\n",
              "      <th>B_PASS</th>\n",
              "      <th>R_REV</th>\n",
              "      <th>B_REV</th>\n",
              "      <th>last_round</th>\n",
              "      <th>R_SIG_STR._att</th>\n",
              "      <th>R_SIG_STR._landed</th>\n",
              "      <th>B_SIG_STR._att</th>\n",
              "      <th>B_SIG_STR._landed</th>\n",
              "      <th>R_TOTAL_STR._att</th>\n",
              "      <th>R_TOTAL_STR._landed</th>\n",
              "      <th>B_TOTAL_STR._att</th>\n",
              "      <th>B_TOTAL_STR._landed</th>\n",
              "      <th>R_TD_att</th>\n",
              "      <th>R_TD_landed</th>\n",
              "      <th>B_TD_att</th>\n",
              "      <th>B_TD_landed</th>\n",
              "      <th>R_HEAD_att</th>\n",
              "      <th>R_HEAD_landed</th>\n",
              "      <th>B_HEAD_att</th>\n",
              "      <th>B_HEAD_landed</th>\n",
              "      <th>R_BODY_att</th>\n",
              "      <th>R_BODY_landed</th>\n",
              "      <th>B_BODY_att</th>\n",
              "      <th>B_BODY_landed</th>\n",
              "      <th>R_LEG_att</th>\n",
              "      <th>R_LEG_landed</th>\n",
              "      <th>B_LEG_att</th>\n",
              "      <th>B_LEG_landed</th>\n",
              "      <th>R_DISTANCE_att</th>\n",
              "      <th>R_DISTANCE_landed</th>\n",
              "      <th>B_DISTANCE_att</th>\n",
              "      <th>B_DISTANCE_landed</th>\n",
              "      <th>R_CLINCH_att</th>\n",
              "      <th>R_CLINCH_landed</th>\n",
              "      <th>B_CLINCH_att</th>\n",
              "      <th>B_CLINCH_landed</th>\n",
              "      <th>R_GROUND_att</th>\n",
              "      <th>R_GROUND_landed</th>\n",
              "      <th>B_GROUND_att</th>\n",
              "      <th>B_GROUND_landed</th>\n",
              "      <th>day</th>\n",
              "      <th>month</th>\n",
              "      <th>year</th>\n",
              "    </tr>\n",
              "  </thead>\n",
              "  <tbody>\n",
              "    <tr>\n",
              "      <th>count</th>\n",
              "      <td>5061.000000</td>\n",
              "      <td>5061.000000</td>\n",
              "      <td>5061.000000</td>\n",
              "      <td>5061.000000</td>\n",
              "      <td>5061.00000</td>\n",
              "      <td>5061.000000</td>\n",
              "      <td>5061.000000</td>\n",
              "      <td>5061.000000</td>\n",
              "      <td>5061.000000</td>\n",
              "      <td>5061.000000</td>\n",
              "      <td>5061.000000</td>\n",
              "      <td>5061.000000</td>\n",
              "      <td>5061.000000</td>\n",
              "      <td>5061.000000</td>\n",
              "      <td>5061.000000</td>\n",
              "      <td>5061.000000</td>\n",
              "      <td>5061.000000</td>\n",
              "      <td>5061.000000</td>\n",
              "      <td>5061.000000</td>\n",
              "      <td>5061.000000</td>\n",
              "      <td>5061.000000</td>\n",
              "      <td>5061.000000</td>\n",
              "      <td>5061.000000</td>\n",
              "      <td>5061.000000</td>\n",
              "      <td>5061.000000</td>\n",
              "      <td>5061.000000</td>\n",
              "      <td>5061.000000</td>\n",
              "      <td>5061.000000</td>\n",
              "      <td>5061.000000</td>\n",
              "      <td>5061.000000</td>\n",
              "      <td>5061.000000</td>\n",
              "      <td>5061.000000</td>\n",
              "      <td>5061.000000</td>\n",
              "      <td>5061.000000</td>\n",
              "      <td>5061.000000</td>\n",
              "      <td>5061.000000</td>\n",
              "      <td>5061.000000</td>\n",
              "      <td>5061.000000</td>\n",
              "      <td>5061.000000</td>\n",
              "      <td>5061.000000</td>\n",
              "      <td>5061.000000</td>\n",
              "      <td>5061.000000</td>\n",
              "      <td>5061.000000</td>\n",
              "      <td>5061.000000</td>\n",
              "      <td>5061.000000</td>\n",
              "      <td>5061.000000</td>\n",
              "      <td>5061.000000</td>\n",
              "      <td>5061.000000</td>\n",
              "    </tr>\n",
              "    <tr>\n",
              "      <th>mean</th>\n",
              "      <td>0.254495</td>\n",
              "      <td>0.179214</td>\n",
              "      <td>0.513140</td>\n",
              "      <td>0.361786</td>\n",
              "      <td>1.40407</td>\n",
              "      <td>0.829283</td>\n",
              "      <td>0.141276</td>\n",
              "      <td>0.133966</td>\n",
              "      <td>2.285122</td>\n",
              "      <td>77.046829</td>\n",
              "      <td>34.330172</td>\n",
              "      <td>71.254693</td>\n",
              "      <td>29.110255</td>\n",
              "      <td>99.838569</td>\n",
              "      <td>54.640387</td>\n",
              "      <td>88.899625</td>\n",
              "      <td>44.810117</td>\n",
              "      <td>2.957518</td>\n",
              "      <td>1.256866</td>\n",
              "      <td>2.667062</td>\n",
              "      <td>0.897056</td>\n",
              "      <td>60.373246</td>\n",
              "      <td>22.044062</td>\n",
              "      <td>56.159059</td>\n",
              "      <td>18.302114</td>\n",
              "      <td>9.803596</td>\n",
              "      <td>6.798854</td>\n",
              "      <td>8.845287</td>\n",
              "      <td>5.923730</td>\n",
              "      <td>6.869986</td>\n",
              "      <td>5.487255</td>\n",
              "      <td>6.250346</td>\n",
              "      <td>4.884410</td>\n",
              "      <td>59.358032</td>\n",
              "      <td>22.282158</td>\n",
              "      <td>58.184549</td>\n",
              "      <td>20.407825</td>\n",
              "      <td>8.013238</td>\n",
              "      <td>5.503063</td>\n",
              "      <td>7.324837</td>\n",
              "      <td>4.870974</td>\n",
              "      <td>9.675558</td>\n",
              "      <td>6.544952</td>\n",
              "      <td>5.745307</td>\n",
              "      <td>3.831456</td>\n",
              "      <td>15.325825</td>\n",
              "      <td>6.655997</td>\n",
              "      <td>2012.284331</td>\n",
              "    </tr>\n",
              "    <tr>\n",
              "      <th>std</th>\n",
              "      <td>0.525667</td>\n",
              "      <td>0.456930</td>\n",
              "      <td>0.951634</td>\n",
              "      <td>0.812035</td>\n",
              "      <td>2.30306</td>\n",
              "      <td>1.651236</td>\n",
              "      <td>0.426399</td>\n",
              "      <td>0.415408</td>\n",
              "      <td>1.002918</td>\n",
              "      <td>66.228264</td>\n",
              "      <td>29.053506</td>\n",
              "      <td>64.645559</td>\n",
              "      <td>27.272286</td>\n",
              "      <td>75.584462</td>\n",
              "      <td>43.914918</td>\n",
              "      <td>72.448751</td>\n",
              "      <td>38.874437</td>\n",
              "      <td>3.687761</td>\n",
              "      <td>1.825818</td>\n",
              "      <td>3.667451</td>\n",
              "      <td>1.518097</td>\n",
              "      <td>54.169165</td>\n",
              "      <td>20.346821</td>\n",
              "      <td>53.629992</td>\n",
              "      <td>19.216640</td>\n",
              "      <td>10.905276</td>\n",
              "      <td>7.727233</td>\n",
              "      <td>10.119346</td>\n",
              "      <td>7.197257</td>\n",
              "      <td>9.372279</td>\n",
              "      <td>7.547746</td>\n",
              "      <td>8.281937</td>\n",
              "      <td>6.606671</td>\n",
              "      <td>63.039691</td>\n",
              "      <td>25.209859</td>\n",
              "      <td>60.646353</td>\n",
              "      <td>23.233096</td>\n",
              "      <td>11.112950</td>\n",
              "      <td>8.029727</td>\n",
              "      <td>9.713667</td>\n",
              "      <td>6.924248</td>\n",
              "      <td>14.882898</td>\n",
              "      <td>10.056039</td>\n",
              "      <td>11.428872</td>\n",
              "      <td>7.900608</td>\n",
              "      <td>8.551376</td>\n",
              "      <td>3.458280</td>\n",
              "      <td>5.337129</td>\n",
              "    </tr>\n",
              "    <tr>\n",
              "      <th>min</th>\n",
              "      <td>0.000000</td>\n",
              "      <td>0.000000</td>\n",
              "      <td>0.000000</td>\n",
              "      <td>0.000000</td>\n",
              "      <td>0.00000</td>\n",
              "      <td>0.000000</td>\n",
              "      <td>0.000000</td>\n",
              "      <td>0.000000</td>\n",
              "      <td>1.000000</td>\n",
              "      <td>0.000000</td>\n",
              "      <td>0.000000</td>\n",
              "      <td>0.000000</td>\n",
              "      <td>0.000000</td>\n",
              "      <td>0.000000</td>\n",
              "      <td>0.000000</td>\n",
              "      <td>0.000000</td>\n",
              "      <td>0.000000</td>\n",
              "      <td>0.000000</td>\n",
              "      <td>0.000000</td>\n",
              "      <td>0.000000</td>\n",
              "      <td>0.000000</td>\n",
              "      <td>0.000000</td>\n",
              "      <td>0.000000</td>\n",
              "      <td>0.000000</td>\n",
              "      <td>0.000000</td>\n",
              "      <td>0.000000</td>\n",
              "      <td>0.000000</td>\n",
              "      <td>0.000000</td>\n",
              "      <td>0.000000</td>\n",
              "      <td>0.000000</td>\n",
              "      <td>0.000000</td>\n",
              "      <td>0.000000</td>\n",
              "      <td>0.000000</td>\n",
              "      <td>0.000000</td>\n",
              "      <td>0.000000</td>\n",
              "      <td>0.000000</td>\n",
              "      <td>0.000000</td>\n",
              "      <td>0.000000</td>\n",
              "      <td>0.000000</td>\n",
              "      <td>0.000000</td>\n",
              "      <td>0.000000</td>\n",
              "      <td>0.000000</td>\n",
              "      <td>0.000000</td>\n",
              "      <td>0.000000</td>\n",
              "      <td>0.000000</td>\n",
              "      <td>1.000000</td>\n",
              "      <td>1.000000</td>\n",
              "      <td>1993.000000</td>\n",
              "    </tr>\n",
              "    <tr>\n",
              "      <th>25%</th>\n",
              "      <td>0.000000</td>\n",
              "      <td>0.000000</td>\n",
              "      <td>0.000000</td>\n",
              "      <td>0.000000</td>\n",
              "      <td>0.00000</td>\n",
              "      <td>0.000000</td>\n",
              "      <td>0.000000</td>\n",
              "      <td>0.000000</td>\n",
              "      <td>1.000000</td>\n",
              "      <td>26.000000</td>\n",
              "      <td>12.000000</td>\n",
              "      <td>20.000000</td>\n",
              "      <td>8.000000</td>\n",
              "      <td>36.000000</td>\n",
              "      <td>20.000000</td>\n",
              "      <td>29.000000</td>\n",
              "      <td>14.000000</td>\n",
              "      <td>0.000000</td>\n",
              "      <td>0.000000</td>\n",
              "      <td>0.000000</td>\n",
              "      <td>0.000000</td>\n",
              "      <td>20.000000</td>\n",
              "      <td>7.000000</td>\n",
              "      <td>15.000000</td>\n",
              "      <td>4.000000</td>\n",
              "      <td>2.000000</td>\n",
              "      <td>1.000000</td>\n",
              "      <td>2.000000</td>\n",
              "      <td>1.000000</td>\n",
              "      <td>1.000000</td>\n",
              "      <td>1.000000</td>\n",
              "      <td>1.000000</td>\n",
              "      <td>0.000000</td>\n",
              "      <td>12.000000</td>\n",
              "      <td>4.000000</td>\n",
              "      <td>12.000000</td>\n",
              "      <td>4.000000</td>\n",
              "      <td>1.000000</td>\n",
              "      <td>0.000000</td>\n",
              "      <td>1.000000</td>\n",
              "      <td>0.000000</td>\n",
              "      <td>0.000000</td>\n",
              "      <td>0.000000</td>\n",
              "      <td>0.000000</td>\n",
              "      <td>0.000000</td>\n",
              "      <td>8.000000</td>\n",
              "      <td>4.000000</td>\n",
              "      <td>2010.000000</td>\n",
              "    </tr>\n",
              "    <tr>\n",
              "      <th>50%</th>\n",
              "      <td>0.000000</td>\n",
              "      <td>0.000000</td>\n",
              "      <td>0.000000</td>\n",
              "      <td>0.000000</td>\n",
              "      <td>0.00000</td>\n",
              "      <td>0.000000</td>\n",
              "      <td>0.000000</td>\n",
              "      <td>0.000000</td>\n",
              "      <td>3.000000</td>\n",
              "      <td>61.000000</td>\n",
              "      <td>27.000000</td>\n",
              "      <td>54.000000</td>\n",
              "      <td>22.000000</td>\n",
              "      <td>88.000000</td>\n",
              "      <td>46.000000</td>\n",
              "      <td>75.000000</td>\n",
              "      <td>36.000000</td>\n",
              "      <td>2.000000</td>\n",
              "      <td>1.000000</td>\n",
              "      <td>1.000000</td>\n",
              "      <td>0.000000</td>\n",
              "      <td>47.000000</td>\n",
              "      <td>17.000000</td>\n",
              "      <td>41.000000</td>\n",
              "      <td>13.000000</td>\n",
              "      <td>6.000000</td>\n",
              "      <td>4.000000</td>\n",
              "      <td>5.000000</td>\n",
              "      <td>4.000000</td>\n",
              "      <td>3.000000</td>\n",
              "      <td>3.000000</td>\n",
              "      <td>3.000000</td>\n",
              "      <td>2.000000</td>\n",
              "      <td>38.000000</td>\n",
              "      <td>13.000000</td>\n",
              "      <td>37.000000</td>\n",
              "      <td>13.000000</td>\n",
              "      <td>4.000000</td>\n",
              "      <td>3.000000</td>\n",
              "      <td>4.000000</td>\n",
              "      <td>2.000000</td>\n",
              "      <td>4.000000</td>\n",
              "      <td>2.000000</td>\n",
              "      <td>1.000000</td>\n",
              "      <td>1.000000</td>\n",
              "      <td>15.000000</td>\n",
              "      <td>7.000000</td>\n",
              "      <td>2014.000000</td>\n",
              "    </tr>\n",
              "    <tr>\n",
              "      <th>75%</th>\n",
              "      <td>0.000000</td>\n",
              "      <td>0.000000</td>\n",
              "      <td>1.000000</td>\n",
              "      <td>0.000000</td>\n",
              "      <td>2.00000</td>\n",
              "      <td>1.000000</td>\n",
              "      <td>0.000000</td>\n",
              "      <td>0.000000</td>\n",
              "      <td>3.000000</td>\n",
              "      <td>109.000000</td>\n",
              "      <td>49.000000</td>\n",
              "      <td>104.000000</td>\n",
              "      <td>43.000000</td>\n",
              "      <td>147.000000</td>\n",
              "      <td>78.000000</td>\n",
              "      <td>133.000000</td>\n",
              "      <td>66.000000</td>\n",
              "      <td>4.000000</td>\n",
              "      <td>2.000000</td>\n",
              "      <td>4.000000</td>\n",
              "      <td>1.000000</td>\n",
              "      <td>85.000000</td>\n",
              "      <td>31.000000</td>\n",
              "      <td>81.000000</td>\n",
              "      <td>26.000000</td>\n",
              "      <td>14.000000</td>\n",
              "      <td>10.000000</td>\n",
              "      <td>13.000000</td>\n",
              "      <td>9.000000</td>\n",
              "      <td>9.000000</td>\n",
              "      <td>8.000000</td>\n",
              "      <td>9.000000</td>\n",
              "      <td>7.000000</td>\n",
              "      <td>85.000000</td>\n",
              "      <td>31.000000</td>\n",
              "      <td>86.000000</td>\n",
              "      <td>29.000000</td>\n",
              "      <td>11.000000</td>\n",
              "      <td>7.000000</td>\n",
              "      <td>10.000000</td>\n",
              "      <td>7.000000</td>\n",
              "      <td>13.000000</td>\n",
              "      <td>9.000000</td>\n",
              "      <td>6.000000</td>\n",
              "      <td>4.000000</td>\n",
              "      <td>22.000000</td>\n",
              "      <td>10.000000</td>\n",
              "      <td>2016.000000</td>\n",
              "    </tr>\n",
              "    <tr>\n",
              "      <th>max</th>\n",
              "      <td>5.000000</td>\n",
              "      <td>4.000000</td>\n",
              "      <td>10.000000</td>\n",
              "      <td>7.000000</td>\n",
              "      <td>26.00000</td>\n",
              "      <td>14.000000</td>\n",
              "      <td>5.000000</td>\n",
              "      <td>3.000000</td>\n",
              "      <td>5.000000</td>\n",
              "      <td>490.000000</td>\n",
              "      <td>290.000000</td>\n",
              "      <td>495.000000</td>\n",
              "      <td>206.000000</td>\n",
              "      <td>524.000000</td>\n",
              "      <td>361.000000</td>\n",
              "      <td>497.000000</td>\n",
              "      <td>336.000000</td>\n",
              "      <td>27.000000</td>\n",
              "      <td>21.000000</td>\n",
              "      <td>33.000000</td>\n",
              "      <td>12.000000</td>\n",
              "      <td>430.000000</td>\n",
              "      <td>244.000000</td>\n",
              "      <td>373.000000</td>\n",
              "      <td>179.000000</td>\n",
              "      <td>101.000000</td>\n",
              "      <td>56.000000</td>\n",
              "      <td>100.000000</td>\n",
              "      <td>92.000000</td>\n",
              "      <td>89.000000</td>\n",
              "      <td>75.000000</td>\n",
              "      <td>87.000000</td>\n",
              "      <td>69.000000</td>\n",
              "      <td>479.000000</td>\n",
              "      <td>281.000000</td>\n",
              "      <td>447.000000</td>\n",
              "      <td>196.000000</td>\n",
              "      <td>115.000000</td>\n",
              "      <td>95.000000</td>\n",
              "      <td>87.000000</td>\n",
              "      <td>78.000000</td>\n",
              "      <td>136.000000</td>\n",
              "      <td>88.000000</td>\n",
              "      <td>130.000000</td>\n",
              "      <td>100.000000</td>\n",
              "      <td>31.000000</td>\n",
              "      <td>12.000000</td>\n",
              "      <td>2019.000000</td>\n",
              "    </tr>\n",
              "  </tbody>\n",
              "</table>\n",
              "</div>"
            ],
            "text/plain": [
              "              R_KD         B_KD  ...        month         year\n",
              "count  5061.000000  5061.000000  ...  5061.000000  5061.000000\n",
              "mean      0.254495     0.179214  ...     6.655997  2012.284331\n",
              "std       0.525667     0.456930  ...     3.458280     5.337129\n",
              "min       0.000000     0.000000  ...     1.000000  1993.000000\n",
              "25%       0.000000     0.000000  ...     4.000000  2010.000000\n",
              "50%       0.000000     0.000000  ...     7.000000  2014.000000\n",
              "75%       0.000000     0.000000  ...    10.000000  2016.000000\n",
              "max       5.000000     4.000000  ...    12.000000  2019.000000\n",
              "\n",
              "[8 rows x 48 columns]"
            ]
          },
          "metadata": {
            "tags": []
          },
          "execution_count": 52
        }
      ]
    },
    {
      "cell_type": "markdown",
      "metadata": {
        "id": "VaZ39yv-vASD",
        "colab_type": "text"
      },
      "source": [
        "Group by year, and find out how many fights happened each year.\n",
        "\n",
        "How many years are in the dataset?"
      ]
    },
    {
      "cell_type": "code",
      "metadata": {
        "id": "TnY-OdUUwPZw",
        "colab_type": "code",
        "outputId": "393f977d-7d37-4072-c37f-1c393f73fb0c",
        "colab": {
          "base_uri": "https://localhost:8080/",
          "height": 35
        }
      },
      "source": [
        "# find the frequency of each value in the column\n",
        "year_counts = df['year'].value_counts()\n",
        "\n",
        "year_counts.nunique()"
      ],
      "execution_count": 0,
      "outputs": [
        {
          "output_type": "execute_result",
          "data": {
            "text/plain": [
              "25"
            ]
          },
          "metadata": {
            "tags": []
          },
          "execution_count": 53
        }
      ]
    },
    {
      "cell_type": "markdown",
      "metadata": {
        "id": "WAIp_HfPwQYQ",
        "colab_type": "text"
      },
      "source": [
        "How many fights happened in each year?"
      ]
    },
    {
      "cell_type": "code",
      "metadata": {
        "id": "p4ur_7hNv5uC",
        "colab_type": "code",
        "outputId": "363c40bb-3126-4082-ffb1-d25240f508b4",
        "colab": {
          "base_uri": "https://localhost:8080/",
          "height": 515
        }
      },
      "source": [
        "year_counts.sort_values()"
      ],
      "execution_count": 0,
      "outputs": [
        {
          "output_type": "execute_result",
          "data": {
            "text/plain": [
              "1993      8\n",
              "1998     20\n",
              "1994     29\n",
              "1995     31\n",
              "1996     36\n",
              "1997     38\n",
              "2001     39\n",
              "2003     39\n",
              "2004     39\n",
              "2000     40\n",
              "1999     41\n",
              "2002     52\n",
              "2005     79\n",
              "2006    158\n",
              "2007    169\n",
              "2008    201\n",
              "2009    213\n",
              "2019    223\n",
              "2010    250\n",
              "2011    295\n",
              "2012    333\n",
              "2013    376\n",
              "2017    440\n",
              "2015    464\n",
              "2018    471\n",
              "2016    483\n",
              "2014    494\n",
              "Name: year, dtype: int64"
            ]
          },
          "metadata": {
            "tags": []
          },
          "execution_count": 54
        }
      ]
    },
    {
      "cell_type": "markdown",
      "metadata": {
        "id": "El0UpB--JDmK",
        "colab_type": "text"
      },
      "source": [
        "Let's see that visually:\n"
      ]
    },
    {
      "cell_type": "code",
      "metadata": {
        "id": "RAJ6ypDakYac",
        "colab_type": "code",
        "outputId": "e2dade1b-d561-42bf-beeb-c0934622c807",
        "colab": {
          "base_uri": "https://localhost:8080/",
          "height": 373
        }
      },
      "source": [
        "values = df['year'].value_counts().sort_values(ascending=False)\n",
        "labels = values.index\n",
        "\n",
        "clrs=[\"red\"]\n",
        "\n",
        "sns.set_style(\"white\")\n",
        "plt.figure(figsize = (15,5))\n",
        "sns.barplot(y=values, x=labels, palette=clrs)\n",
        "plt.xticks(rotation=50)\n",
        "plt.xlabel('Year')\n",
        "plt.ylabel('Number of fights')\n",
        "plt.title('Number of fights by year (1993-2019)');"
      ],
      "execution_count": 0,
      "outputs": [
        {
          "output_type": "display_data",
          "data": {
            "image/png": "[encoded data removed]",
            "text/plain": [
              "<Figure size 1080x360 with 1 Axes>"
            ]
          },
          "metadata": {
            "tags": []
          }
        }
      ]
    },
    {
      "cell_type": "markdown",
      "metadata": {
        "id": "xPIZn2nexA_D",
        "colab_type": "text"
      },
      "source": [
        "Since there are many more fights per year in recent years, there is certainly more submissions by volume than in the beginning. So, we will need to test the proportion of fights ending in submissions, and whether that's gone down over time."
      ]
    },
    {
      "cell_type": "markdown",
      "metadata": {
        "id": "Vgjt2I95Th6Q",
        "colab_type": "text"
      },
      "source": [
        "##Analysis of finish type\n",
        "\n",
        "Order the data to evaluate the change in proportion of submissions vs other finish types over time."
      ]
    },
    {
      "cell_type": "code",
      "metadata": {
        "id": "IYHE9LW9NLnZ",
        "colab_type": "code",
        "colab": {}
      },
      "source": [
        "df['is submission?'] = np.where(df['win_by']=='Submission', 1, 0)\n",
        "\n",
        "df['is KO/TKO?'] = np.where(df['win_by']=='KO/TKO', 1, 0)\n",
        "\n",
        "df['is decision - split?'] = np.where(df['win_by']=='Decision - Split', 1, 0)\n",
        "\n",
        "df['is decision - unanimous?'] = np.where(df['win_by']=='Decision - Unanimous', 1, 0)"
      ],
      "execution_count": 0,
      "outputs": []
    },
    {
      "cell_type": "markdown",
      "metadata": {
        "id": "-tSrduBovLDX",
        "colab_type": "text"
      },
      "source": [
        "Aggregate win types for plotting:\n",
        "\n",
        "Submissions:"
      ]
    },
    {
      "cell_type": "code",
      "metadata": {
        "id": "ZMOsDn0APR8I",
        "colab_type": "code",
        "outputId": "e1881e5a-93cf-4a23-f6d9-8f80b852359a",
        "colab": {
          "base_uri": "https://localhost:8080/",
          "height": 301
        }
      },
      "source": [
        "aggs_df = df.groupby('year')['is submission?'].agg(['sum','count'])\n",
        "aggs_df['percent'] = aggs_df['sum']/aggs_df['count']\n",
        "\n",
        "sns.distplot(aggs_df['percent'], bins=30, color='navy')\n",
        "plt.title('Distribution of Submissions');"
      ],
      "execution_count": 0,
      "outputs": [
        {
          "output_type": "display_data",
          "data": {
            "image/png": "[encoded data removed]",
            "text/plain": [
              "<Figure size 432x288 with 1 Axes>"
            ]
          },
          "metadata": {
            "tags": []
          }
        }
      ]
    },
    {
      "cell_type": "markdown",
      "metadata": {
        "id": "zMkuIHc9vRt6",
        "colab_type": "text"
      },
      "source": [
        "Aggregate KO/TKOs, split decisions, and unanimous decisions, too:"
      ]
    },
    {
      "cell_type": "code",
      "metadata": {
        "id": "rYAN9HjqvRSQ",
        "colab_type": "code",
        "colab": {}
      },
      "source": [
        "aggko_df = df.groupby('year')['is KO/TKO?'].agg(['sum','count'])\n",
        "aggko_df['percent'] = aggko_df['sum']/aggko_df['count']\n",
        "\n",
        "aggds_df = df.groupby('year')['is decision - split?'].agg(['sum','count'])\n",
        "aggds_df['percent'] = aggds_df['sum']/aggds_df['count']\n",
        "\n",
        "aggdu_df = df.groupby('year')['is decision - split?'].agg(['sum','count'])\n",
        "aggdu_df['percent'] = aggdu_df['sum']/aggdu_df['count']\n",
        "\n",
        "aggs_df['type'] = 'submission'\n",
        "aggko_df['type'] = 'KO/TKO'\n",
        "aggds_df['type'] = 'Split Decision'\n",
        "aggdu_df['type'] = 'Unanimous Decision'\n",
        "\n",
        "#wrap them all up in one data frame for plotting\n"
      ],
      "execution_count": 0,
      "outputs": []
    },
    {
      "cell_type": "markdown",
      "metadata": {
        "id": "UdsWgT_yv6dp",
        "colab_type": "text"
      },
      "source": [
        "Wrap them all up in one for plotting:"
      ]
    },
    {
      "cell_type": "code",
      "metadata": {
        "id": "xitFXrZfbp6y",
        "colab_type": "code",
        "outputId": "717ff4b0-4b3e-44f3-dd41-bd67e004676e",
        "colab": {
          "base_uri": "https://localhost:8080/",
          "height": 373
        }
      },
      "source": [
        "agg_df = aggs_df.append(other=[aggko_df, aggds_df, aggdu_df])\n",
        "\n",
        "values=agg_df['percent']\n",
        "labels=agg_df.index\n",
        "hue=agg_df['type']\n",
        "\n",
        "clrs= [\"black\", \"darkred\",\"navy\", \"yellow\"]\n",
        "\n",
        "plt.figure(figsize= (10,5))\n",
        "sns.set_style(\"white\")\n",
        "sns.lineplot(x=labels, y=values, hue=hue, palette=clrs)\n",
        "plt.xticks(rotation=50)\n",
        "plt.xlabel('Year')\n",
        "plt.ylabel('Percent of fights')\n",
        "plt.title('Finish type percentages by year');"
      ],
      "execution_count": 0,
      "outputs": [
        {
          "output_type": "display_data",
          "data": {
            "image/png": "[encoded data removed]",
            "text/plain": [
              "<Figure size 720x360 with 1 Axes>"
            ]
          },
          "metadata": {
            "tags": []
          }
        }
      ]
    },
    {
      "cell_type": "markdown",
      "metadata": {
        "id": "lFkosgsHHKOR",
        "colab_type": "text"
      },
      "source": [
        "Drilling into finish types:"
      ]
    },
    {
      "cell_type": "code",
      "metadata": {
        "colab_type": "code",
        "outputId": "b6a45a9d-4ca2-41c7-f198-e1fc3e5af348",
        "id": "nqpEwNJvIqTN",
        "colab": {
          "base_uri": "https://localhost:8080/",
          "height": 456
        }
      },
      "source": [
        "win_by = df['win_by'].value_counts().sort_values(ascending=False)\n",
        "win_counts = df['win_by'].value_counts()\n",
        "sorted_wins = df['win_by'].sort_values(ascending=False)\n",
        "\n",
        "plt.figure(figsize= (10,5))\n",
        "\n",
        "clrs = ['navy' for y in values]\n",
        "\n",
        "sns.barplot(x=win_counts.index, y=win_counts.values, palette=clrs)\n",
        "plt.xticks(rotation=50)\n",
        "plt.xlabel('Win type')\n",
        "plt.ylabel('Number of fights')\n",
        "plt.title('Total fights by win type');"
      ],
      "execution_count": 0,
      "outputs": [
        {
          "output_type": "display_data",
          "data": {
            "image/png": "[encoded data removed]",
            "text/plain": [
              "<Figure size 720x360 with 1 Axes>"
            ]
          },
          "metadata": {
            "tags": []
          }
        }
      ]
    },
    {
      "cell_type": "code",
      "metadata": {
        "id": "20SgCwnesUk8",
        "colab_type": "code",
        "colab": {}
      },
      "source": [
        "most_submissions_df = df.groupby('Winner')['is submission?'].agg('count')\n",
        "top_15_sub = most_submissions_df.nlargest(15)"
      ],
      "execution_count": 0,
      "outputs": []
    },
    {
      "cell_type": "code",
      "metadata": {
        "id": "v7-vucr2rxj0",
        "colab_type": "code",
        "outputId": "798b9d72-3c03-4994-ca95-d73473da54bd",
        "colab": {
          "base_uri": "https://localhost:8080/",
          "height": 427
        }
      },
      "source": [
        "index = top_15_sub.index\n",
        "values = top_15_sub.values\n",
        "\n",
        "plt.figure(figsize= (15,5))\n",
        "sns.barplot(x=index, y=values, palette=clrs)\n",
        "plt.xticks(rotation=50)\n",
        "plt.xlabel('Fighter')\n",
        "plt.ylabel('Number of fights')\n",
        "plt.title('Top 15 fighters with the most submissions');"
      ],
      "execution_count": 0,
      "outputs": [
        {
          "output_type": "display_data",
          "data": {
            "image/png": "[encoded data removed]",
            "text/plain": [
              "<Figure size 1080x360 with 1 Axes>"
            ]
          },
          "metadata": {
            "tags": []
          }
        }
      ]
    },
    {
      "cell_type": "markdown",
      "metadata": {
        "id": "IKIzhjNe9CWi",
        "colab_type": "text"
      },
      "source": [
        "##Analysis of fight finish type by weight class\n"
      ]
    },
    {
      "cell_type": "code",
      "metadata": {
        "id": "cfPsu_ocdGTm",
        "colab_type": "code",
        "outputId": "148bc390-929a-4dca-ada7-ef9160bb1ab0",
        "colab": {
          "base_uri": "https://localhost:8080/",
          "height": 284
        }
      },
      "source": [
        "#fights in weightclass\n",
        "df['weight_class'].value_counts()"
      ],
      "execution_count": 0,
      "outputs": [
        {
          "output_type": "execute_result",
          "data": {
            "text/plain": [
              "Lightweight              971\n",
              "Welterweight             956\n",
              "Middleweight             717\n",
              "Heavyweight              497\n",
              "Light Heavyweight        492\n",
              "Featherweight            434\n",
              "Bantamweight             371\n",
              "Flyweight                185\n",
              "Women's Strawweight      142\n",
              "Women's Bantamweight     109\n",
              "Open Weight               92\n",
              "Women's Flyweight         49\n",
              "Catch Weight              36\n",
              "Women's Featherweight     10\n",
              "Name: weight_class, dtype: int64"
            ]
          },
          "metadata": {
            "tags": []
          },
          "execution_count": 63
        }
      ]
    },
    {
      "cell_type": "code",
      "metadata": {
        "id": "HkrP0Mn_8jAw",
        "colab_type": "code",
        "outputId": "c2753f3b-f64a-4b97-94ba-082fefc74c35",
        "colab": {
          "base_uri": "https://localhost:8080/",
          "height": 518
        }
      },
      "source": [
        "clrs= [\"black\", \"purple\", \"yellow\", \"darkred\",\"navy\", \"black\", \"brown\", \"green\", \"pink\"]\n",
        "\n",
        "bar = df.groupby(['weight_class', 'win_by']).size().reset_index().pivot(columns='win_by', index='weight_class', values=0)\n",
        "bar.plot(stacked=True, figsize=(15,8), kind=\"barh\", color=clrs)\n",
        "plt.xlabel('Finish Type proportion')\n",
        "plt.ylabel('Weight Class')\n",
        "plt.title('Most Frequent Finish Type by Weight Class');"
      ],
      "execution_count": 0,
      "outputs": [
        {
          "output_type": "display_data",
          "data": {
            "image/png": "[encoded data removed]",
            "text/plain": [
              "<Figure size 1080x576 with 1 Axes>"
            ]
          },
          "metadata": {
            "tags": []
          }
        }
      ]
    },
    {
      "cell_type": "markdown",
      "metadata": {
        "id": "fzLX6w1BfZ9y",
        "colab_type": "text"
      },
      "source": [
        "##Analysis of takedowns\n",
        "\n",
        "Split the number of takedown columns from the string in R_TD and B_TD columns, convert to integers, and concatentate so we can look at number of total takedowns overtime."
      ]
    },
    {
      "cell_type": "code",
      "metadata": {
        "id": "ocwQFQadamHt",
        "colab_type": "code",
        "outputId": "2e277a91-cf3e-4dc8-eb7f-32ddcc15ebe8",
        "colab": {
          "base_uri": "https://localhost:8080/",
          "height": 777
        }
      },
      "source": [
        "df['Total TD'] = df['B_TD_landed']+df['R_TD_landed']\n",
        "\n",
        "df['Total TD attempted'] = df['R_TD_att']+df['B_TD_att']\n",
        "\n",
        "aggtd_df = df.groupby('year')['Total TD'].agg(['sum','count'])\n",
        "aggtd_df['percent'] = df['Total TD']/df['Total TD attempted']\n",
        "\n",
        "aggtd_df = aggtd_df.dropna()\n",
        "aggtd_df"
      ],
      "execution_count": 0,
      "outputs": [
        {
          "output_type": "execute_result",
          "data": {
            "text/html": [
              "<div>\n",
              "<style scoped>\n",
              "    .dataframe tbody tr th:only-of-type {\n",
              "        vertical-align: middle;\n",
              "    }\n",
              "\n",
              "    .dataframe tbody tr th {\n",
              "        vertical-align: top;\n",
              "    }\n",
              "\n",
              "    .dataframe thead th {\n",
              "        text-align: right;\n",
              "    }\n",
              "</style>\n",
              "<table border=\"1\" class=\"dataframe\">\n",
              "  <thead>\n",
              "    <tr style=\"text-align: right;\">\n",
              "      <th></th>\n",
              "      <th>sum</th>\n",
              "      <th>count</th>\n",
              "      <th>percent</th>\n",
              "    </tr>\n",
              "    <tr>\n",
              "      <th>year</th>\n",
              "      <th></th>\n",
              "      <th></th>\n",
              "      <th></th>\n",
              "    </tr>\n",
              "  </thead>\n",
              "  <tbody>\n",
              "    <tr>\n",
              "      <th>1995</th>\n",
              "      <td>22</td>\n",
              "      <td>31</td>\n",
              "      <td>0.666667</td>\n",
              "    </tr>\n",
              "    <tr>\n",
              "      <th>1996</th>\n",
              "      <td>34</td>\n",
              "      <td>36</td>\n",
              "      <td>0.666667</td>\n",
              "    </tr>\n",
              "    <tr>\n",
              "      <th>1997</th>\n",
              "      <td>48</td>\n",
              "      <td>38</td>\n",
              "      <td>0.750000</td>\n",
              "    </tr>\n",
              "    <tr>\n",
              "      <th>1998</th>\n",
              "      <td>40</td>\n",
              "      <td>20</td>\n",
              "      <td>0.571429</td>\n",
              "    </tr>\n",
              "    <tr>\n",
              "      <th>1999</th>\n",
              "      <td>69</td>\n",
              "      <td>41</td>\n",
              "      <td>0.111111</td>\n",
              "    </tr>\n",
              "    <tr>\n",
              "      <th>2000</th>\n",
              "      <td>74</td>\n",
              "      <td>40</td>\n",
              "      <td>0.000000</td>\n",
              "    </tr>\n",
              "    <tr>\n",
              "      <th>2001</th>\n",
              "      <td>96</td>\n",
              "      <td>39</td>\n",
              "      <td>0.230769</td>\n",
              "    </tr>\n",
              "    <tr>\n",
              "      <th>2003</th>\n",
              "      <td>79</td>\n",
              "      <td>39</td>\n",
              "      <td>0.000000</td>\n",
              "    </tr>\n",
              "    <tr>\n",
              "      <th>2004</th>\n",
              "      <td>82</td>\n",
              "      <td>39</td>\n",
              "      <td>0.363636</td>\n",
              "    </tr>\n",
              "    <tr>\n",
              "      <th>2005</th>\n",
              "      <td>178</td>\n",
              "      <td>79</td>\n",
              "      <td>0.666667</td>\n",
              "    </tr>\n",
              "    <tr>\n",
              "      <th>2006</th>\n",
              "      <td>382</td>\n",
              "      <td>158</td>\n",
              "      <td>0.545455</td>\n",
              "    </tr>\n",
              "    <tr>\n",
              "      <th>2007</th>\n",
              "      <td>395</td>\n",
              "      <td>169</td>\n",
              "      <td>0.000000</td>\n",
              "    </tr>\n",
              "    <tr>\n",
              "      <th>2008</th>\n",
              "      <td>448</td>\n",
              "      <td>201</td>\n",
              "      <td>0.235294</td>\n",
              "    </tr>\n",
              "    <tr>\n",
              "      <th>2009</th>\n",
              "      <td>521</td>\n",
              "      <td>213</td>\n",
              "      <td>0.181818</td>\n",
              "    </tr>\n",
              "    <tr>\n",
              "      <th>2010</th>\n",
              "      <td>660</td>\n",
              "      <td>250</td>\n",
              "      <td>0.333333</td>\n",
              "    </tr>\n",
              "    <tr>\n",
              "      <th>2011</th>\n",
              "      <td>700</td>\n",
              "      <td>295</td>\n",
              "      <td>0.166667</td>\n",
              "    </tr>\n",
              "    <tr>\n",
              "      <th>2012</th>\n",
              "      <td>647</td>\n",
              "      <td>333</td>\n",
              "      <td>0.357143</td>\n",
              "    </tr>\n",
              "    <tr>\n",
              "      <th>2013</th>\n",
              "      <td>863</td>\n",
              "      <td>376</td>\n",
              "      <td>0.000000</td>\n",
              "    </tr>\n",
              "    <tr>\n",
              "      <th>2014</th>\n",
              "      <td>1155</td>\n",
              "      <td>494</td>\n",
              "      <td>0.200000</td>\n",
              "    </tr>\n",
              "    <tr>\n",
              "      <th>2015</th>\n",
              "      <td>1009</td>\n",
              "      <td>464</td>\n",
              "      <td>0.000000</td>\n",
              "    </tr>\n",
              "    <tr>\n",
              "      <th>2016</th>\n",
              "      <td>1045</td>\n",
              "      <td>483</td>\n",
              "      <td>0.400000</td>\n",
              "    </tr>\n",
              "    <tr>\n",
              "      <th>2017</th>\n",
              "      <td>869</td>\n",
              "      <td>440</td>\n",
              "      <td>0.000000</td>\n",
              "    </tr>\n",
              "    <tr>\n",
              "      <th>2018</th>\n",
              "      <td>931</td>\n",
              "      <td>471</td>\n",
              "      <td>1.000000</td>\n",
              "    </tr>\n",
              "  </tbody>\n",
              "</table>\n",
              "</div>"
            ],
            "text/plain": [
              "       sum  count   percent\n",
              "year                       \n",
              "1995    22     31  0.666667\n",
              "1996    34     36  0.666667\n",
              "1997    48     38  0.750000\n",
              "1998    40     20  0.571429\n",
              "1999    69     41  0.111111\n",
              "2000    74     40  0.000000\n",
              "2001    96     39  0.230769\n",
              "2003    79     39  0.000000\n",
              "2004    82     39  0.363636\n",
              "2005   178     79  0.666667\n",
              "2006   382    158  0.545455\n",
              "2007   395    169  0.000000\n",
              "2008   448    201  0.235294\n",
              "2009   521    213  0.181818\n",
              "2010   660    250  0.333333\n",
              "2011   700    295  0.166667\n",
              "2012   647    333  0.357143\n",
              "2013   863    376  0.000000\n",
              "2014  1155    494  0.200000\n",
              "2015  1009    464  0.000000\n",
              "2016  1045    483  0.400000\n",
              "2017   869    440  0.000000\n",
              "2018   931    471  1.000000"
            ]
          },
          "metadata": {
            "tags": []
          },
          "execution_count": 65
        }
      ]
    },
    {
      "cell_type": "code",
      "metadata": {
        "id": "LfomNcuydGup",
        "colab_type": "code",
        "outputId": "8a8b26c0-57e9-4c7f-b06b-221091561187",
        "colab": {
          "base_uri": "https://localhost:8080/",
          "height": 373
        }
      },
      "source": [
        "index=aggtd_df.index\n",
        "values= aggtd_df['percent'].values\n",
        "\n",
        "plt.figure(figsize= (10,5))\n",
        "sns.set_style(\"white\")\n",
        "sns.lineplot(x=index, y=values, palette=clrs)\n",
        "plt.xticks(rotation=50)\n",
        "plt.xlabel('Year')\n",
        "plt.ylabel('Percent submissions')\n",
        "plt.title('Number of Successful Takedowns over time');"
      ],
      "execution_count": 0,
      "outputs": [
        {
          "output_type": "display_data",
          "data": {
            "image/png": "[encoded data removed]",
            "text/plain": [
              "<Figure size 720x360 with 1 Axes>"
            ]
          },
          "metadata": {
            "tags": []
          }
        }
      ]
    },
    {
      "cell_type": "code",
      "metadata": {
        "id": "T9RATC0WeVaI",
        "colab_type": "code",
        "outputId": "7e75f003-ba3b-4f51-b32b-39850b2fbb2e",
        "colab": {
          "base_uri": "https://localhost:8080/",
          "height": 355
        }
      },
      "source": [
        "plt.figure(figsize=(10,5))\n",
        "sns.distplot(aggtd_df['percent'], bins=24, color='navy')\n",
        "plt.title('Distribution of Takedowns');"
      ],
      "execution_count": 0,
      "outputs": [
        {
          "output_type": "display_data",
          "data": {
            "image/png": "[encoded data removed]",
            "text/plain": [
              "<Figure size 720x360 with 1 Axes>"
            ]
          },
          "metadata": {
            "tags": []
          }
        }
      ]
    },
    {
      "cell_type": "markdown",
      "metadata": {
        "id": "dinfv1yZJToY",
        "colab_type": "text"
      },
      "source": [
        "#Hypothesis Testing\n",
        "\n",
        "Now let's prepare our data for some hypothesis testing.\n",
        "\n",
        "I want to see if the number of fights that end in submissions has gone down over time. Since the overall number of fights per year has increased, I will use a z-test to evaluate if there is a statistically significant difference in proportion of fights ending in submission.\n",
        "\n",
        "Since the UFC became officially regulated and standardized in 2000, I will test all fights from 2000-2009 against all fights from 2010-2019."
      ]
    },
    {
      "cell_type": "markdown",
      "metadata": {
        "id": "Gg1o1mFwTHRI",
        "colab_type": "text"
      },
      "source": [
        "Separating 2000-2009 from 2010-2019 to prepare for hypothesis testing:"
      ]
    },
    {
      "cell_type": "code",
      "metadata": {
        "id": "9BDJ5bnpNdCI",
        "colab_type": "code",
        "colab": {}
      },
      "source": [
        "before_2010 = aggs_df[(aggs_df.index >= 2000) & (aggs_df.index <= 2009)]\n",
        "after_2010 = aggs_df[aggs_df.index >= 2010]\n",
        "\n",
        "before_2010['type'] = \"before 2010\"\n",
        "after_2010['type'] = \"after 2010\""
      ],
      "execution_count": 0,
      "outputs": []
    },
    {
      "cell_type": "markdown",
      "metadata": {
        "id": "8SWF6JiAEpTs",
        "colab_type": "text"
      },
      "source": [
        "Let's run descriptive statistics on our two samples:"
      ]
    },
    {
      "cell_type": "code",
      "metadata": {
        "id": "Bn7NVL-w9ov5",
        "colab_type": "code",
        "outputId": "0e0d7858-8371-478c-c605-dc9f5970b991",
        "colab": {
          "base_uri": "https://localhost:8080/",
          "height": 106
        }
      },
      "source": [
        "before_2010.sum()"
      ],
      "execution_count": 0,
      "outputs": [
        {
          "output_type": "execute_result",
          "data": {
            "text/plain": [
              "sum                                                      266\n",
              "count                                                   1029\n",
              "percent                                              2.49931\n",
              "type       before 2010before 2010before 2010before 2010be...\n",
              "dtype: object"
            ]
          },
          "metadata": {
            "tags": []
          },
          "execution_count": 69
        }
      ]
    },
    {
      "cell_type": "code",
      "metadata": {
        "id": "_KXpJFV69r_R",
        "colab_type": "code",
        "outputId": "8e46bcfe-b4a1-4cd9-e8f5-b575bfa2f21f",
        "colab": {
          "base_uri": "https://localhost:8080/",
          "height": 106
        }
      },
      "source": [
        "after_2010.sum()"
      ],
      "execution_count": 0,
      "outputs": [
        {
          "output_type": "execute_result",
          "data": {
            "text/plain": [
              "sum                                                      734\n",
              "count                                                   3829\n",
              "percent                                              1.93604\n",
              "type       after 2010after 2010after 2010after 2010after ...\n",
              "dtype: object"
            ]
          },
          "metadata": {
            "tags": []
          },
          "execution_count": 70
        }
      ]
    },
    {
      "cell_type": "code",
      "metadata": {
        "id": "K9ajnZx1WVg0",
        "colab_type": "code",
        "outputId": "e40f8dce-abec-443f-d03d-334976697e1b",
        "colab": {
          "base_uri": "https://localhost:8080/",
          "height": 291
        }
      },
      "source": [
        "#before 2010\n",
        "\n",
        "before_2010.describe()"
      ],
      "execution_count": 0,
      "outputs": [
        {
          "output_type": "execute_result",
          "data": {
            "text/html": [
              "<div>\n",
              "<style scoped>\n",
              "    .dataframe tbody tr th:only-of-type {\n",
              "        vertical-align: middle;\n",
              "    }\n",
              "\n",
              "    .dataframe tbody tr th {\n",
              "        vertical-align: top;\n",
              "    }\n",
              "\n",
              "    .dataframe thead th {\n",
              "        text-align: right;\n",
              "    }\n",
              "</style>\n",
              "<table border=\"1\" class=\"dataframe\">\n",
              "  <thead>\n",
              "    <tr style=\"text-align: right;\">\n",
              "      <th></th>\n",
              "      <th>sum</th>\n",
              "      <th>count</th>\n",
              "      <th>percent</th>\n",
              "    </tr>\n",
              "  </thead>\n",
              "  <tbody>\n",
              "    <tr>\n",
              "      <th>count</th>\n",
              "      <td>10.00000</td>\n",
              "      <td>10.000000</td>\n",
              "      <td>10.000000</td>\n",
              "    </tr>\n",
              "    <tr>\n",
              "      <th>mean</th>\n",
              "      <td>26.60000</td>\n",
              "      <td>102.900000</td>\n",
              "      <td>0.249931</td>\n",
              "    </tr>\n",
              "    <tr>\n",
              "      <th>std</th>\n",
              "      <td>20.16157</td>\n",
              "      <td>73.423354</td>\n",
              "      <td>0.049206</td>\n",
              "    </tr>\n",
              "    <tr>\n",
              "      <th>min</th>\n",
              "      <td>8.00000</td>\n",
              "      <td>39.000000</td>\n",
              "      <td>0.153846</td>\n",
              "    </tr>\n",
              "    <tr>\n",
              "      <th>25%</th>\n",
              "      <td>9.50000</td>\n",
              "      <td>39.250000</td>\n",
              "      <td>0.219664</td>\n",
              "    </tr>\n",
              "    <tr>\n",
              "      <th>50%</th>\n",
              "      <td>16.00000</td>\n",
              "      <td>65.500000</td>\n",
              "      <td>0.259777</td>\n",
              "    </tr>\n",
              "    <tr>\n",
              "      <th>75%</th>\n",
              "      <td>46.75000</td>\n",
              "      <td>166.250000</td>\n",
              "      <td>0.280288</td>\n",
              "    </tr>\n",
              "    <tr>\n",
              "      <th>max</th>\n",
              "      <td>54.00000</td>\n",
              "      <td>213.000000</td>\n",
              "      <td>0.319527</td>\n",
              "    </tr>\n",
              "  </tbody>\n",
              "</table>\n",
              "</div>"
            ],
            "text/plain": [
              "            sum       count    percent\n",
              "count  10.00000   10.000000  10.000000\n",
              "mean   26.60000  102.900000   0.249931\n",
              "std    20.16157   73.423354   0.049206\n",
              "min     8.00000   39.000000   0.153846\n",
              "25%     9.50000   39.250000   0.219664\n",
              "50%    16.00000   65.500000   0.259777\n",
              "75%    46.75000  166.250000   0.280288\n",
              "max    54.00000  213.000000   0.319527"
            ]
          },
          "metadata": {
            "tags": []
          },
          "execution_count": 71
        }
      ]
    },
    {
      "cell_type": "code",
      "metadata": {
        "id": "IH38rzABEeN8",
        "colab_type": "code",
        "outputId": "b50e14b2-215f-421e-b36f-4a906cb010ee",
        "colab": {
          "base_uri": "https://localhost:8080/",
          "height": 291
        }
      },
      "source": [
        "#after 2010\n",
        "after_2010.describe()"
      ],
      "execution_count": 0,
      "outputs": [
        {
          "output_type": "execute_result",
          "data": {
            "text/html": [
              "<div>\n",
              "<style scoped>\n",
              "    .dataframe tbody tr th:only-of-type {\n",
              "        vertical-align: middle;\n",
              "    }\n",
              "\n",
              "    .dataframe tbody tr th {\n",
              "        vertical-align: top;\n",
              "    }\n",
              "\n",
              "    .dataframe thead th {\n",
              "        text-align: right;\n",
              "    }\n",
              "</style>\n",
              "<table border=\"1\" class=\"dataframe\">\n",
              "  <thead>\n",
              "    <tr style=\"text-align: right;\">\n",
              "      <th></th>\n",
              "      <th>sum</th>\n",
              "      <th>count</th>\n",
              "      <th>percent</th>\n",
              "    </tr>\n",
              "  </thead>\n",
              "  <tbody>\n",
              "    <tr>\n",
              "      <th>count</th>\n",
              "      <td>10.00000</td>\n",
              "      <td>10.000000</td>\n",
              "      <td>10.000000</td>\n",
              "    </tr>\n",
              "    <tr>\n",
              "      <th>mean</th>\n",
              "      <td>73.40000</td>\n",
              "      <td>382.900000</td>\n",
              "      <td>0.193604</td>\n",
              "    </tr>\n",
              "    <tr>\n",
              "      <th>std</th>\n",
              "      <td>17.68364</td>\n",
              "      <td>101.902404</td>\n",
              "      <td>0.017315</td>\n",
              "    </tr>\n",
              "    <tr>\n",
              "      <th>min</th>\n",
              "      <td>42.00000</td>\n",
              "      <td>223.000000</td>\n",
              "      <td>0.178191</td>\n",
              "    </tr>\n",
              "    <tr>\n",
              "      <th>25%</th>\n",
              "      <td>61.00000</td>\n",
              "      <td>304.500000</td>\n",
              "      <td>0.184809</td>\n",
              "    </tr>\n",
              "    <tr>\n",
              "      <th>50%</th>\n",
              "      <td>74.50000</td>\n",
              "      <td>408.000000</td>\n",
              "      <td>0.188998</td>\n",
              "    </tr>\n",
              "    <tr>\n",
              "      <th>75%</th>\n",
              "      <td>88.75000</td>\n",
              "      <td>469.250000</td>\n",
              "      <td>0.192001</td>\n",
              "    </tr>\n",
              "    <tr>\n",
              "      <th>max</th>\n",
              "      <td>95.00000</td>\n",
              "      <td>494.000000</td>\n",
              "      <td>0.236000</td>\n",
              "    </tr>\n",
              "  </tbody>\n",
              "</table>\n",
              "</div>"
            ],
            "text/plain": [
              "            sum       count    percent\n",
              "count  10.00000   10.000000  10.000000\n",
              "mean   73.40000  382.900000   0.193604\n",
              "std    17.68364  101.902404   0.017315\n",
              "min    42.00000  223.000000   0.178191\n",
              "25%    61.00000  304.500000   0.184809\n",
              "50%    74.50000  408.000000   0.188998\n",
              "75%    88.75000  469.250000   0.192001\n",
              "max    95.00000  494.000000   0.236000"
            ]
          },
          "metadata": {
            "tags": []
          },
          "execution_count": 72
        }
      ]
    },
    {
      "cell_type": "code",
      "metadata": {
        "id": "FY7HO8gSKRX5",
        "colab_type": "code",
        "outputId": "cbb14d61-1eb5-457a-ff8e-6b315097a2e1",
        "colab": {
          "base_uri": "https://localhost:8080/",
          "height": 355
        }
      },
      "source": [
        "fig, ax = plt.subplots(1,2, figsize=(12,5))\n",
        "sns.distplot(before_2010['percent'], bins=24, ax=ax[0], color='navy')\n",
        "ax[0].set_title('Distribution of submissions 2000-2009')\n",
        "sns.distplot(after_2010['percent'], bins=24, ax=ax[1], color='navy')\n",
        "ax[1].set_title('Distribution of submissions > 2009');"
      ],
      "execution_count": 0,
      "outputs": [
        {
          "output_type": "display_data",
          "data": {
            "image/png": "[encoded data removed]",
            "text/plain": [
              "<Figure size 864x360 with 2 Axes>"
            ]
          },
          "metadata": {
            "tags": []
          }
        }
      ]
    },
    {
      "cell_type": "markdown",
      "metadata": {
        "id": "mBFRUCZovyyy",
        "colab_type": "text"
      },
      "source": [
        "##Submissions hypothesis testing\n",
        "\n",
        "The z-test.\n",
        "\n",
        "I want to examine whether there is a significant difference in amount of fights ending in submissions from before and after 2010. So, my hypotheses are thus:\n",
        "\n",
        "- Ho: p1 - p2 = 0\n",
        "- Ha: p1 - p2 ≠ 0\n",
        "\n",
        "To conduct a z-test, I'm importing statsmodel library to use the z-test function: https://www.statsmodels.org/stable/generated/statsmodels.stats.weightstats.ztest.html"
      ]
    },
    {
      "cell_type": "code",
      "metadata": {
        "id": "kLbn0wstJho0",
        "colab_type": "code",
        "outputId": "80f18e4d-45ef-4f08-ddf6-133347b1eee9",
        "colab": {
          "base_uri": "https://localhost:8080/",
          "height": 35
        }
      },
      "source": [
        "import statsmodels.api as sm\n",
        "import statsmodels.formula.api as smf\n",
        "\n",
        "sm.stats.ztest(x1=before_2010['percent'], x2=after_2010['percent'])"
      ],
      "execution_count": 0,
      "outputs": [
        {
          "output_type": "execute_result",
          "data": {
            "text/plain": [
              "(3.414654984537285, 0.0006386284934845202)"
            ]
          },
          "metadata": {
            "tags": []
          },
          "execution_count": 74
        }
      ]
    },
    {
      "cell_type": "code",
      "metadata": {
        "id": "ACoKqOFpqLaP",
        "colab_type": "code",
        "outputId": "32b05a1b-d091-49ae-870b-54708c22d7e7",
        "colab": {
          "base_uri": "https://localhost:8080/",
          "height": 52
        }
      },
      "source": [
        "# Calculate the standard error and compute the confidence intervals\n",
        "#confidence intervals\n",
        "\n",
        "sample_1_n = before_2010.shape[0]\n",
        "sample_2_n = after_2010.shape[0]\n",
        "sample_1_mean = before_2010['percent'].mean()\n",
        "sample_2_mean = after_2010['percent'].mean()\n",
        "sample_1_var = before_2010['percent'].var()\n",
        "sample_2_var = after_2010['percent'].var()\n",
        "\n",
        "import math\n",
        "\n",
        "std_err_difference = math.sqrt((sample_1_var/sample_1_n)+(sample_2_var/sample_2_n))\n",
        "\n",
        "mean_difference = sample_2_mean - sample_1_mean\n",
        "\n",
        "margin_of_error = 1.96 * std_err_difference\n",
        "ci_lower = mean_difference - margin_of_error\n",
        "ci_upper = mean_difference + margin_of_error\n",
        "\n",
        "print(\"The difference in means at the 95% confidence interval is between \"+str(ci_lower)+\" and \"+str(ci_upper)+\".\")\n",
        "\n",
        "#Cohen's d function\n",
        "\n",
        "def get_cohens_d(array_1, array_2):\n",
        "    sample_1_n = array_1.shape[0]\n",
        "    sample_2_n = array_2.shape[0]\n",
        "    sample_1_mean = array_1.mean()\n",
        "    sample_2_mean = array_2.mean()\n",
        "    sample_1_var = array_1.var()\n",
        "    sample_2_var = array_2.var()\n",
        "    s_pooled = math.sqrt((sample_1_var + sample_2_var)/2)\n",
        "    cohens = (sample_1_mean - sample_2_mean) / s_pooled\n",
        "    \n",
        "    return(\"Cohen's d is: \"+str(cohens)+ \".\")\n",
        "  \n",
        "print(get_cohens_d(before_2010['percent'], after_2010['percent']))"
      ],
      "execution_count": 0,
      "outputs": [
        {
          "output_type": "stream",
          "text": [
            "The difference in means at the 95% confidence interval is between -0.0886580451744588 and -0.02399537602011515.\n",
            "Cohen's d is: 1.527080133026773.\n"
          ],
          "name": "stdout"
        }
      ]
    },
    {
      "cell_type": "markdown",
      "metadata": {
        "id": "MvkC8oKGj8Gw",
        "colab_type": "text"
      },
      "source": [
        "*How to plot the results of z-test? bar plot with error bars. Must calculate confidence interval.*"
      ]
    },
    {
      "cell_type": "code",
      "metadata": {
        "id": "UOSvpmLKOx5G",
        "colab_type": "code",
        "outputId": "579b4940-3a6e-44fc-f0e1-ae650dd74b31",
        "colab": {
          "base_uri": "https://localhost:8080/",
          "height": 355
        }
      },
      "source": [
        "submissions_test= pd.concat([before_2010, after_2010])\n",
        "\n",
        "plt.figure(figsize = (11,5))\n",
        "sns.barplot(x=\"type\", y=\"percent\", data=submissions_test)\n",
        "plt.xlabel('Year')\n",
        "plt.ylabel('Submissions')\n",
        "plt.title('Mean submission percentage 2000-2009 vs 2010-2019');\n"
      ],
      "execution_count": 0,
      "outputs": [
        {
          "output_type": "display_data",
          "data": {
            "image/png": "[encoded data removed]",
            "text/plain": [
              "<Figure size 792x360 with 1 Axes>"
            ]
          },
          "metadata": {
            "tags": []
          }
        }
      ]
    },
    {
      "cell_type": "markdown",
      "metadata": {
        "id": "Jz3KVHCLdgjT",
        "colab_type": "text"
      },
      "source": [
        "##Takedowns hypothesis testing\n",
        "\n",
        "Has number of successful takedowns over the years gone down?\n",
        "\n",
        "Our hypotheses:\n",
        "- Ho: p1 - p2 = 0\n",
        "- Ha: p1 - p2 ≠ 0"
      ]
    },
    {
      "cell_type": "code",
      "metadata": {
        "id": "yVxmQnJkdv5K",
        "colab_type": "code",
        "outputId": "919527d8-f9a1-4b16-e4be-c1ba3afb828a",
        "colab": {
          "base_uri": "https://localhost:8080/",
          "height": 355
        }
      },
      "source": [
        "td_before_2010 = aggtd_df[(aggtd_df.index >= 2000) & (aggtd_df.index <= 2009)]\n",
        "td_after_2010 = aggtd_df[aggtd_df.index >= 2010]\n",
        "\n",
        "td_before_2010['type'] = \"before 2010\"\n",
        "td_after_2010['type'] = \"after 2010\"\n",
        "\n",
        "fig, ax = plt.subplots(1,2, figsize=(10,5))\n",
        "sns.distplot(td_before_2010['percent'], bins=24, ax=ax[0], color='navy')\n",
        "ax[0].set_title('Distribution of takedowns 2000-2009')\n",
        "sns.distplot(td_after_2010['percent'], bins=24, ax=ax[1], color='navy')\n",
        "ax[1].set_title('Distribution of takedowns > 2009');"
      ],
      "execution_count": 0,
      "outputs": [
        {
          "output_type": "display_data",
          "data": {
            "image/png": "[encoded data removed]",
            "text/plain": [
              "<Figure size 720x360 with 2 Axes>"
            ]
          },
          "metadata": {
            "tags": []
          }
        }
      ]
    },
    {
      "cell_type": "code",
      "metadata": {
        "id": "vSwZaUVjdFZa",
        "colab_type": "code",
        "outputId": "c8744b62-4cc9-49c1-c75f-d91d666401d1",
        "colab": {
          "base_uri": "https://localhost:8080/",
          "height": 35
        }
      },
      "source": [
        "sm.stats.ztest(x1=td_before_2010['percent'], x2=td_after_2010['percent'])"
      ],
      "execution_count": 0,
      "outputs": [
        {
          "output_type": "execute_result",
          "data": {
            "text/plain": [
              "(-0.1959633255263911, 0.844638871395421)"
            ]
          },
          "metadata": {
            "tags": []
          },
          "execution_count": 78
        }
      ]
    },
    {
      "cell_type": "code",
      "metadata": {
        "id": "FJlF_LTCtAZ5",
        "colab_type": "code",
        "outputId": "f4ca9d41-2802-44b4-9175-76415517fbcc",
        "colab": {
          "base_uri": "https://localhost:8080/",
          "height": 52
        }
      },
      "source": [
        "#confidence intervals\n",
        "\n",
        "sample_1_n = td_before_2010.shape[0]\n",
        "sample_2_n = td_after_2010.shape[0]\n",
        "sample_1_mean = td_before_2010['percent'].mean()\n",
        "sample_2_mean = td_after_2010['percent'].mean()\n",
        "sample_1_var = td_before_2010['percent'].var()\n",
        "sample_2_var = td_after_2010['percent'].var()\n",
        "\n",
        "std_err_difference = math.sqrt((sample_1_var/sample_1_n)+(sample_2_var/sample_2_n))\n",
        "\n",
        "mean_difference = sample_2_mean - sample_1_mean\n",
        "\n",
        "margin_of_error = 1.96 * std_err_difference\n",
        "ci_lower = mean_difference - margin_of_error\n",
        "ci_upper = mean_difference + margin_of_error\n",
        "\n",
        "print(\"The difference in means at the 95% confidence interval is between \"+str(ci_lower)+\" and \"+str(ci_upper)+\".\")\n",
        "print(get_cohens_d(td_before_2010['percent'], td_after_2010['percent']))"
      ],
      "execution_count": 0,
      "outputs": [
        {
          "output_type": "stream",
          "text": [
            "The difference in means at the 95% confidence interval is between -0.2335523068755232 and 0.28544202935348106.\n",
            "Cohen's d is: -0.09237799756238514.\n"
          ],
          "name": "stdout"
        }
      ]
    },
    {
      "cell_type": "code",
      "metadata": {
        "id": "fKuNwYiqB2DG",
        "colab_type": "code",
        "outputId": "3d31a441-3121-454b-ea6a-bae9353341ea",
        "colab": {
          "base_uri": "https://localhost:8080/",
          "height": 355
        }
      },
      "source": [
        "takedowns_test= pd.concat([td_before_2010, td_after_2010])\n",
        "\n",
        "plt.figure(figsize = (11,5))\n",
        "sns.barplot(x=\"type\", y=\"percent\", data=takedowns_test)\n",
        "plt.xlabel('Year')\n",
        "plt.ylabel('Takedowns')\n",
        "plt.title('Mean takedown percentage 2000-2009 vs 2010-2019');\n"
      ],
      "execution_count": 0,
      "outputs": [
        {
          "output_type": "display_data",
          "data": {
            "image/png": "[encoded data removed]",
            "text/plain": [
              "<Figure size 792x360 with 1 Axes>"
            ]
          },
          "metadata": {
            "tags": []
          }
        }
      ]
    },
    {
      "cell_type": "markdown",
      "metadata": {
        "id": "k_4YRfj-t1BQ",
        "colab_type": "text"
      },
      "source": [
        "Doesn't look like the number of successful takedowns over time has changed very significantly. We've failed to reject the null."
      ]
    },
    {
      "cell_type": "markdown",
      "metadata": {
        "id": "NaZbPPppCa5U",
        "colab_type": "text"
      },
      "source": [
        "#Conclusion\n",
        "\n",
        "- Found that my original hypothesis that the proportion of fights ending in takedowns has gone down was supported by a z-test. I was able to reject the null.\n",
        "- Failed to reject the null hypothesis that there was a change in proportion of successful takedowns over time.\n",
        "\n",
        "I'm not surprised by my findings on submissions. My guess as to why this is the case is that as time has gone on, more fighters are proficient at brazilian jiu jitsu, so the skills gaps between those who come from a BJJ background and those who don't has narrowed significantly. Also, as it develops as a sport, mixed martial arts will continue to evolve and refine as fighters introduce new techniques.\n",
        "\n",
        "Brazilian Jiu Jitsu has become ingrained into the sport-- where other types of martial arts sank when put to the test, brazilian jiu jitsu rose to the top. But now and going forward, in order for a fighter to stay on top they'll need to have elite level ground AND striking abilities.\n",
        "\n",
        "I think anyone who's interested in mixed martials arts would find valuable insightsd here. The intended audience cna glean insights that help them think about where the future of the sport is going. It could be used by aspiring fighters to understand what fighting styles are important.\n",
        "\n",
        "As I continue to improve my data science and analytics abilities, I'm excited to continue researching this topic to uncover more insights about UFC and mixed martial arts."
      ]
    }
  ]
}